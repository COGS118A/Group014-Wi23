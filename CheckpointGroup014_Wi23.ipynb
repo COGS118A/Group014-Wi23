{
  "cells": [
    {
      "cell_type": "markdown",
      "metadata": {
        "id": "QBTSTqXFPHjY"
      },
      "source": [
        "# COGS 118A - Project Checkpoint"
      ]
    },
    {
      "cell_type": "markdown",
      "metadata": {
        "id": "SRe4C0QnPHja"
      },
      "source": [
        "# Names\n",
        "\n",
        "- Bobby Baylon\n",
        "- Kyra Brandt\n",
        "- Jayson Gutierrez\n",
        "- Nathaniel Mackler\n",
        "- Stephen Rabin"
      ]
    },
    {
      "cell_type": "markdown",
      "metadata": {
        "id": "w7MmtEegPHjc"
      },
      "source": [
        "# Abstract \n",
        " Load management is a significant topic issue in the NBA as it involves the decision-making process of whether a player should play on game day, in order to avoid injuries and to ensure long-term health and success for both the player and their team. The goal of our project is to create a system for categorizing NBA players' injuries based on performance data. A KNN technique for multi-class classification will be used to accomplish this using datasets that include information on each player's performance statistics and instances of player injury. To gather player performance information, we will use datasets that contain web scraping from the nba api and injury data from Kaggle, which has 27,106 observations and 5 variables. Due to the sheer volume of features in the dataset, we will use feature selection to measure player performance statistics using integer values that reflect different performance indicators."
      ]
    },
    {
      "cell_type": "markdown",
      "metadata": {
        "id": "hDFEF9LEPHjd"
      },
      "source": [
        "# Background\n",
        "\n",
        "\n",
        "A hot topic within the current NBA world revolves around the idea of load management. The concept of load management dictates if a player should play on game day and, if they do, how many minutes. One hypothetical example is that an NBA organization might sit their star player out for a game halfway through the season because that player has been used at high rates in recent games. That organization might analyze their star's workload, ask the player how their body is responding, and assess that it's time to give their star a rest to prevent any risk of injuries, minor or major. \n",
        "Practicing load management seems like an obvious protocol for an organization in order to preserve both the player and the organization’s future health and success. A study conducted through the 2012-2015 seasons in 17 NBA teams demonstrated that significant factors in player injuries were high game loads and player fatigue <a name=\"lewis\"></a>[<sup>[1]</sup>](#lewisnote). This study reinforces that there’s an interaction between game load and injury risk, thus it's reasonable for fans, organizations, and players to assess minutes and games played to determine if a player should sit to prevent injury. Another study conducted using data from the 2017-2019 seasons found that other risk factors for injury were player age and position <a name=\"cohan\"></a>[<sup>[2]</sup>](#cohannote). This study indicates that seasoned players are more prone to injury and that player build’s are considerable factors in injuries due to the size expectations of certain positions. A relevant article highlighted a trend an increasing injury severity over 11 seasons, attributing the causes to things such as lengthening the season and an increase in athletic intensity<a name=\"kosik\"></a>[<sup>[3]</sup>](#kosiknote). These variables are valuable in selecting specific variables that should be used in a statistical analysis of injury likelihood from player performance.\n",
        "On the surface, it seems obvious to people outside of the NBA world that you would want to prevent major injuries for the players, that could even be career ending, and that forcing any individual to play regardless of their physical status would be unethical and harmful. However, traditional NBA fans and retired players argue that current players, especially star players, shouldn’t sit due to fatigue or minor injuries as it robs fans of their full experience at an NBA game. When the late great Kobe Bryant was asked why he disapproves of modern NBA players sitting out due to fatigue, he stated this reasoning perfectly, “Because you have a lot of people paying a lot of money to come see these athletes play, and they deserve to see that.\"\n"
      ]
    },
    {
      "cell_type": "markdown",
      "metadata": {
        "id": "R0U53c7yPHje"
      },
      "source": [
        "# Problem Statement \n",
        "\n",
        "The research problem at hand is to classify NBA player injuries as non-injured, minor injury, or major injury based on their performance statistics, such as usage rating, minutes played, and games played, and demographics, like age, height, and weight. The purpose of this project is to develop an accurate solution that can aid NBA organizations in their decision-making regarding load management and player preservation, as high game loads and player fatigue have been identified as significant factors in player injuries. By identifying common injury risk factors among NBA players based on position and player build, the solution can inform preventative measures and training programs, promoting player health and success. As discussed in the background section above, the significance of this research lies in its potential to help NBA organizations improve player health and success, while enhancing the fan experience at NBA games by providing a high level of play while preventing major injuries for the players. In other words, predicting injuries will help players and coaches sustain longer, healthier careers and deliver the performance their fans deserve. \n",
        "\n",
        "One solution we’re leaning towards is implementing a KNN algorithm to classify the injuries with respect to the performance statistics. One reason we’re considering using a KNN implementation is that it is a strong algorithm for multi-class classification. This is important because we aim to classify injury statuses in a hierarchy of non-injured, minor injury, or major injury. However, the high dimensionality of the available data may present a challenge in implementing KNN for this classification task, requiring feature selection. The high test time of KNN is not a major issue since this algorithm would only have to be used around 10^4 or 10^5 times per year. This project's impact can contribute to the overall goal of promoting player health and success while also enhancing the fan experience at NBA games."
      ]
    },
    {
      "cell_type": "markdown",
      "metadata": {
        "id": "wmv-Qlj7PHjf"
      },
      "source": [
        "### Data \n",
        "\n",
        "We have combined data from the Kaggle Injury Data 2010-2020 and the nba_api (both of which are described below) to create a final cleaned dataframe pairing individual player performance statistics with whether or not players were injured that particular season. If the player was injured, we also have a column for whether their injury was minor or severe. We will use this merged dataframe as the basis of our model.\n",
        "\n",
        "The dataframe was constructed from the datasets below, both of which are in the Repo (as is our final dataframe) if you wish to view them:\n",
        "\n",
        "**Injury Data 2010-2020 (Kaggle):**\n",
        "- Link: https://www.kaggle.com/datasets/ghopkins/nba-injuries-2010-2018?resource=download \n",
        "\n",
        "Dataset size: 27,106 X 5 = 27,106 observations and 5 variables\n",
        "A single observation consists of the name of the injured player, the team they played for while injured, notes detailing the injury, injury leave, and/or return from injury, and the date for which the player either left on injury leave or returned to play. \n",
        "\n",
        "Some critical variables are the Required, Relinquished, and Notes variables. Required and Relinquished (based on whether or not a name is present) indicate whether a player is going on injury leave or returning to the field of play. Both of these variables are represented as string values and are categorical. The Notes variable contains more specific information on the injury (i.e. did not play or day-to-day [which is questionable to play]) and/or indicates the beginning or end of injury leave for a player. The Notes variable is represented as a string. \n",
        "\n",
        "This dataset was cleaned using string parsing to determine if a particular injury was minor or severe. A minor injury was defined to be an injury that keeps a player out of the game for one game or less, while a severe injury was one that kept the player out for more than one game. We determined which type of injury was which using string parsing - for example, a string containing “dtd” (day-to-day) indicated a minor injury, while words like “ACL” indicated severe injuries. Due to the fact that one injury could be featured in the kaggle dataset anywhere from 1-10+ times, we’ve whittled the dataset down to recording whether a player was uninjured, minorly injured, severely injured, or both in each season. \n",
        "\n",
        "The final dataset that came out of this is 3796 observations of 4 variables: season, player name, and a boolean for minor and severe injury. This was left-joined with our performance stats from the NBI API dataset, and NaNs will be replaced with falses, since not being in the injuries dataset means a player wasn’t injured. We did have to discard approximately 4% of the injury data due to names being stored in a different format; we expect that this will slightly bias our model to underpredict injuries, but the dataset was too large to realistically go through and fix this by hand. Cleaning steps can be seen in the DataCleaningEDA118a.ipynb notebook in our repo. \n",
        "\n",
        "\n",
        "**nba_api for web scraping (GitHub):**\n",
        "- Link: https://github.com/swar/nba_api\n",
        "- Dataset size: 6593 observations x 80 variables.\n",
        "- An observation consists of around 80 performance statistics for a given player (i.e. time played, points scored, number of rebounds, average free throws made, etc.) along with their name, player ID, some demographics (ex. age) and the season.\n",
        "- Critical variables are the **player's name and season** because these are important for matching our dataframes as well as the **performance statistics and demographics** since these are the features we will feed into our models. Of the many player statistics we have data for, we expect to focus on variables that highlight general player performance, like average time played, average points scored in a game, and average shots made which would all be represented as integer values. A core element of our project moving forward will be to do feature selection from these performance and demographic statistics. \n",
        "- We retrieved advanced statistics data for NBA players from the 2009-2010 season to the present season. We first queried the NBA website for a table that included the identification information of all players on record, which was then filtered to include only those who have played since the 2009-2010 season. This process of retrieval took advantage of the NBA_API's 'player.py' module which provides access to a static database of all players that the NBA has recorded statistics for. Then, for each season, advanced stats data is retrieved and filtered to only include players who played in that season using the NBA_API's leaguedashplayerstats endpoint that accesses the advanced statistics for NBA players under some specified criteria. The resulting dataframes of each season's advanced stats for each player are concatenated into a single dataframe containing advanced stats data for all NBA players who have played since the 2009-2010 season. The resulting dataframe can be used for further analysis of NBA player performance."
      ]
    },
    {
      "cell_type": "markdown",
      "metadata": {
        "id": "yrxKQOkDPHjg"
      },
      "source": [
        "# Proposed Solution\n",
        "\n",
        "K-nearest neighbors is an obvious solution for this use case. Realistically, one would need to predict the injury class of NBA players no more frequently than tens of thousands of times per year. Therefore, the high complexity of testing with KNN is a non-issue for this use case. The curse of dimensionality is also not a significant problem, as we have thousands of data points but only tens of features. However, a large vulnerability would be the risk of useless features affecting our KNN classifier. We don’t know for sure which features will matter. We may try to pick some features based on intuition - but there is no guarantee that features that have predictive power will be intuitively so. If we did choose to use KNN, then we could use built-in SKlearn methods - we would have to be careful to scale all our data by z-score, however. \n",
        "\n",
        "An alternative solution would be to use an SVM with an RBF kernel (or some other kernel that is appropriate for a data set where we have more observations than features; this is a tunable hyperparameter) to build a classifier. To do feature selection, we could use a grid search CV with C (the “hardness” of the margin) and different sets of features (first selected on intuition and research, as using all possible combinations would result in a ~2^20 by count(values of C) grid, which would result in easily overfitting to noise, be impossible to compute at our scale, and which we have insufficient data to cross validate. This would still be vulnerable to the intuition issue, but should be more resistant to overfitting to noise. Alternatively, I read online about recursive feature selection in SVMs - but I would want to talk about this with a TA before considering this technique, as it was not discussed in class. In any case, SVM is well-implemented in SKlearn, so we could use SKlearn for this process. \n",
        "\n",
        "Previous studies' models, such as that conducted by Lewis or Cohan & Schuster, have used only player age and minutes played, since intuitively, these two factors are by far the most important in predicting whether a player will be injured. For this reason, our benchmark model is the logistic regression using only age and minutes played for input, so if a complex model fails to do significantly better than this model, we can safely dismiss it as not useful. Additionally, in our feature selection, we will use those two features (age, minutes played) as our baseline for determining our additional performanace features are useful.\n"
      ]
    },
    {
      "cell_type": "markdown",
      "metadata": {
        "id": "j4N1GiW6PHjh"
      },
      "source": [
        "# Evaluation Metrics\n",
        "\n",
        "While there are certainly consequences for a false positive in this case (like potentially hurting a player's mindset or causing them to reduce their performance), the consequences of a false negative (an injury occuring that could have been prevented or whose probability could be reduced through better form/training moderation) are far worse. The obvious error metric for this case would be recall (TP/(TP+FN)), but this metric would give zero weight to false positives. The harm of false positives is not zero, just lower than that of false negatives. Therefore, I think the best metric would be an Fbeta metric. The value of beta is subjective. We will play around with a few values to determine the beta that “feels” right, but it should be over one to weight recall higher.\n",
        "\n",
        "We may also use confusion matrices and ROC/AUC in performing our model selection."
      ]
    },
    {
      "cell_type": "markdown",
      "metadata": {
        "id": "_4S43rK7PHjh"
      },
      "source": [
        "# Preliminary results\n",
        "\n",
        "We began our preliminary testing to classify player injuries utilizing the KNN or K-nearest neighbors classifier algorithm. The KNN algorithm is implemented in a pipeline that includes the default scaling settings. We fit the KNN pipeline on the training dataset and then used it to predict results for the testing dataset. Due to time constraints, we reduced our preliminary analysis to the binary case of injured or not injured players, to quickly determine how well the KNN algorithm would perform with default parameters. Hence, the default KNN algorithm will serve as our “default” algorithm for characterizing performance. We were then able to demonstrate the suitability through precision, recall, and F-beta metrics of the KNN algorithm for the binary classification. This preliminary exploration yielded a precision value of 0.69, suggesting this model identifies a greater number of true positives with some false positives. We got a recall value of 0.78 which implies that our initial model still results in 0.22 misclassifications (false negatives). While this score is larger than the precision found, we believe it is possible to perform even better. Lastly, our F-beta value was 0.76 with beta = 2 where recall is weighted twice as much as precision. F-beta scores are a measure of the model’s accuracy based on both the precision and recall. Getting a value of 0.76 means we are classifying more samples than not. Though these scores are not terrible, we have confidence in our abilities to improve our current model, or identify another one capable of yielding greater confidence in our predictions. The code for our preliminary results can be found in the PreliminaryResults118a notebook within this repo."
      ]
    },
    {
      "cell_type": "markdown",
      "metadata": {
        "id": "40iWCPucPHji"
      },
      "source": [
        "# Ethics & Privacy"
      ]
    },
    {
      "cell_type": "markdown",
      "metadata": {
        "id": "sRrbvSzTPHji"
      },
      "source": [
        "We will be using data that is directly taken from the NBA.com website. We are aware that it is crucial to make sure the data is gathered methodically and objectively. We will be working with player statistics that are made available to the public via the website, and as the data will not contain sensitive information and is made available to the public, informed permission is not necessary. We will use prosportstransactions.com to access player injury data for the 2010–2011 season through the 2019–2020 season. We won't falsify the data to forward an objective, such as financial gain, so in order to account for honest portrayal and unintentional use of the data when doing our research."
      ]
    },
    {
      "cell_type": "markdown",
      "metadata": {
        "id": "TMT3xqr1PHjj"
      },
      "source": [
        "# Team Expectations "
      ]
    },
    {
      "cell_type": "markdown",
      "metadata": {
        "id": "I27XO4ihPHjj"
      },
      "source": [
        "Put things here that cement how you will interact/communicate as a team, how you will handle conflict and difficulty, how you will handle making decisions and setting goals/schedule, how much work you expect from each other, how you will handle deadlines, etc...\n",
        "* *Communicate with one another using the team groupchat on Discord. Try to respond to messages within 24 hours if not sooner.*\n",
        "* *We will meet when necessary on Zoom. We will organize meeting times in Discord. Any anticipated absenses or schedule conflicts should be brought up with the team beforehand.*\n",
        "* *We will do our best to divide the work equally between members of the team.*\n",
        "* *Conflicts between team members should be brought up with the whole team, so that the other team members can mediate and help resolve the conflict.*"
      ]
    },
    {
      "cell_type": "markdown",
      "metadata": {
        "id": "Z3fHjPT5PHjj"
      },
      "source": [
        "# Updated Project Timeline Proposal"
      ]
    },
    {
      "cell_type": "markdown",
      "metadata": {
        "id": "6M4PicA6PHjk"
      },
      "source": [
        "\n",
        "| Meeting Date  | Meeting Time| Completed Before Meeting  | Discuss at Meeting |\n",
        "|---|---|---|---|\n",
        "| 2/14 | 1 PM | Brainstorm topics/questions (all) | Introduce selves; Choose basic topic/area of interest for project; Begin looking for data sources|\n",
        "| 2/22  |  10 AM |  Find data/develop deeper understanding of topic (all)  | Divide work on project proposal among team members; Clarify research question | \n",
        "| **2/22** | **11:59 PM** | **PROJECT PROPOSAL DUE** |\n",
        "| 3/4  |  11:30 AM | Get and clean data from NBA API (Jayson), clean injury dataset and preliminary EDA (Nathaniel, Bobby) | Divide work for project checkpoint; Decide who will clean data and how models will be implemented and who will work on which ones | \n",
        "| 3/7  | 1 PM  | Implement(or be close to implementing) most if not all of the models | Edit, finalize, and submit checkpoint; Touch base on problems that arise; Discuss plans for next phase of project |\n",
        "| **3/8** | **11:59 PM** | **PROJECT CHECKPOINT DUE** |\n",
        "| 3/14  | 1 PM  | Do model selection; Calculate metrics | Review progress and tackle issues; Divide up work for final project notebook   |\n",
        "| 3/20  | 12 PM  | Draft final project notebook | Discuss/edit project code; Proofread final notebook; Complete project |\n",
        "| **3/22**  | **11:59 PM**  | **FINAL PROJECT DUE**  | Don't forget to fill out team evaluation survey! |"
      ]
    },
    {
      "cell_type": "markdown",
      "metadata": {
        "id": "vUENeSstPHjk"
      },
      "source": [
        "# Footnotes\n",
        "<a name=\"lewisnote\"></a>1.[^](#lewis): Lewis, M. (2018). It’s a Hard-Knock Life: Game Load, Fatigue, and Injury Risk in the National Basketball Association. J Athl Train. https://meridian.allenpress.com/jat/article/53/5/503/112788/It-s-a-Hard-Knock-Life-Game-Load-Fatigue-and<br> \n",
        "<a name=\"cohannote\"></a>2.[^](#cohan): Cohan, A., Schuster, J. Fernandez, J. (2021). A deep learning approach to injury forecasting in NBA basketball. Journal of Sports Analytics. <br>\n",
        "<a name=\"kosiknote\"></a>3.[^](#kosik) Kosik, K., Lundquist, K., & McInnis, K. (2021). Temporal Trends and Severity in Injury and Illness Incidence in the National Basketball Association Over 11 Seasons. Journal of Athletic Training, 56(1), 15-23"
      ]
    },
    {
      "cell_type": "code",
      "execution_count": null,
      "metadata": {
        "id": "ebSPUmKEPHjk"
      },
      "outputs": [],
      "source": []
    }
  ],
  "metadata": {
    "kernelspec": {
      "display_name": "Python 3",
      "language": "python",
      "name": "python3"
    },
    "language_info": {
      "codemirror_mode": {
        "name": "ipython",
        "version": 3
      },
      "file_extension": ".py",
      "mimetype": "text/x-python",
      "name": "python",
      "nbconvert_exporter": "python",
      "pygments_lexer": "ipython3",
      "version": "3.8.8"
    },
    "colab": {
      "provenance": []
    }
  },
  "nbformat": 4,
  "nbformat_minor": 0
}