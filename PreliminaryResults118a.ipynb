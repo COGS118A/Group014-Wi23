{
  "nbformat": 4,
  "nbformat_minor": 0,
  "metadata": {
    "colab": {
      "provenance": [],
      "include_colab_link": true
    },
    "kernelspec": {
      "name": "python3",
      "display_name": "Python 3"
    },
    "language_info": {
      "name": "python"
    }
  },
  "cells": [
    {
      "cell_type": "markdown",
      "metadata": {
        "id": "view-in-github",
        "colab_type": "text"
      },
      "source": [
        "<a href=\"https://colab.research.google.com/github/COGS118A/Group014-Wi23/blob/main/PreliminaryResults118a.ipynb\" target=\"_parent\"><img src=\"https://colab.research.google.com/assets/colab-badge.svg\" alt=\"Open In Colab\"/></a>"
      ]
    },
    {
      "cell_type": "code",
      "execution_count": null,
      "metadata": {
        "id": "uw-F8q5ibcoy"
      },
      "outputs": [],
      "source": [
        "import pandas as pd\n",
        "import numpy as np\n",
        "from sklearn.model_selection import GroupShuffleSplit\n",
        "from sklearn.pipeline import Pipeline\n",
        "from sklearn.preprocessing import StandardScaler\n",
        "from sklearn.neighbors import KNeighborsClassifier\n",
        "from sklearn.metrics import precision_recall_fscore_support"
      ]
    },
    {
      "cell_type": "code",
      "source": [
        "url = \"https://raw.githubusercontent.com/COGS118A/Group014-Wi23/main/nba_api_merged_injuries\"\n",
        "data = pd.read_csv(url)"
      ],
      "metadata": {
        "id": "rKtl9QrLdCid"
      },
      "execution_count": null,
      "outputs": []
    },
    {
      "cell_type": "code",
      "source": [
        "data.head()"
      ],
      "metadata": {
        "colab": {
          "base_uri": "https://localhost:8080/",
          "height": 317
        },
        "id": "GmNGw9KvdHRV",
        "outputId": "ff3657ed-adbd-4250-968b-a1621a84cdaf"
      },
      "execution_count": null,
      "outputs": [
        {
          "output_type": "execute_result",
          "data": {
            "text/plain": [
              "   PLAYER_ID    PLAYER_NAME NICKNAME     TEAM_ID TEAM_ABBREVIATION   AGE  GP  \\\n",
              "0     201985       AJ Price       AJ  1610612754               IND  24.0  50   \n",
              "1     201166   Aaron Brooks    Aaron  1610612756               PHX  26.0  59   \n",
              "2     201189     Aaron Gray    Aaron  1610612740               NOH  26.0  41   \n",
              "3     201151       Acie Law     Acie  1610612744               GSW  26.0  51   \n",
              "4       1733  Al Harrington       Al  1610612743               DEN  31.0  73   \n",
              "\n",
              "    W   L  W_PCT  ...  sp_work_PACE_RANK  PIE_RANK  FGM_RANK  FGA_RANK  \\\n",
              "0  22  28  0.440  ...                153       278       270       240   \n",
              "1  26  33  0.441  ...                133       259       179       143   \n",
              "2  21  20  0.512  ...                420       332       338       361   \n",
              "3  20  31  0.392  ...                100       307       305       304   \n",
              "4  45  28  0.616  ...                 50       258       130       112   \n",
              "\n",
              "   FGM_PG_RANK  FGA_PG_RANK  FG_PCT_RANK  SEASON_YEAR  SEVERE_INJURY  \\\n",
              "0          253          210          408         2010           True   \n",
              "1          151          109          390         2010           True   \n",
              "2          347          378           23         2010           True   \n",
              "3          326          326          264         2010           True   \n",
              "4          141          119          319         2010           True   \n",
              "\n",
              "   MINOR_INJURY  \n",
              "0         False  \n",
              "1         False  \n",
              "2         False  \n",
              "3         False  \n",
              "4         False  \n",
              "\n",
              "[5 rows x 81 columns]"
            ],
            "text/html": [
              "\n",
              "  <div id=\"df-63a7ffcf-6989-499e-82d7-7953c557a5cd\">\n",
              "    <div class=\"colab-df-container\">\n",
              "      <div>\n",
              "<style scoped>\n",
              "    .dataframe tbody tr th:only-of-type {\n",
              "        vertical-align: middle;\n",
              "    }\n",
              "\n",
              "    .dataframe tbody tr th {\n",
              "        vertical-align: top;\n",
              "    }\n",
              "\n",
              "    .dataframe thead th {\n",
              "        text-align: right;\n",
              "    }\n",
              "</style>\n",
              "<table border=\"1\" class=\"dataframe\">\n",
              "  <thead>\n",
              "    <tr style=\"text-align: right;\">\n",
              "      <th></th>\n",
              "      <th>PLAYER_ID</th>\n",
              "      <th>PLAYER_NAME</th>\n",
              "      <th>NICKNAME</th>\n",
              "      <th>TEAM_ID</th>\n",
              "      <th>TEAM_ABBREVIATION</th>\n",
              "      <th>AGE</th>\n",
              "      <th>GP</th>\n",
              "      <th>W</th>\n",
              "      <th>L</th>\n",
              "      <th>W_PCT</th>\n",
              "      <th>...</th>\n",
              "      <th>sp_work_PACE_RANK</th>\n",
              "      <th>PIE_RANK</th>\n",
              "      <th>FGM_RANK</th>\n",
              "      <th>FGA_RANK</th>\n",
              "      <th>FGM_PG_RANK</th>\n",
              "      <th>FGA_PG_RANK</th>\n",
              "      <th>FG_PCT_RANK</th>\n",
              "      <th>SEASON_YEAR</th>\n",
              "      <th>SEVERE_INJURY</th>\n",
              "      <th>MINOR_INJURY</th>\n",
              "    </tr>\n",
              "  </thead>\n",
              "  <tbody>\n",
              "    <tr>\n",
              "      <th>0</th>\n",
              "      <td>201985</td>\n",
              "      <td>AJ Price</td>\n",
              "      <td>AJ</td>\n",
              "      <td>1610612754</td>\n",
              "      <td>IND</td>\n",
              "      <td>24.0</td>\n",
              "      <td>50</td>\n",
              "      <td>22</td>\n",
              "      <td>28</td>\n",
              "      <td>0.440</td>\n",
              "      <td>...</td>\n",
              "      <td>153</td>\n",
              "      <td>278</td>\n",
              "      <td>270</td>\n",
              "      <td>240</td>\n",
              "      <td>253</td>\n",
              "      <td>210</td>\n",
              "      <td>408</td>\n",
              "      <td>2010</td>\n",
              "      <td>True</td>\n",
              "      <td>False</td>\n",
              "    </tr>\n",
              "    <tr>\n",
              "      <th>1</th>\n",
              "      <td>201166</td>\n",
              "      <td>Aaron Brooks</td>\n",
              "      <td>Aaron</td>\n",
              "      <td>1610612756</td>\n",
              "      <td>PHX</td>\n",
              "      <td>26.0</td>\n",
              "      <td>59</td>\n",
              "      <td>26</td>\n",
              "      <td>33</td>\n",
              "      <td>0.441</td>\n",
              "      <td>...</td>\n",
              "      <td>133</td>\n",
              "      <td>259</td>\n",
              "      <td>179</td>\n",
              "      <td>143</td>\n",
              "      <td>151</td>\n",
              "      <td>109</td>\n",
              "      <td>390</td>\n",
              "      <td>2010</td>\n",
              "      <td>True</td>\n",
              "      <td>False</td>\n",
              "    </tr>\n",
              "    <tr>\n",
              "      <th>2</th>\n",
              "      <td>201189</td>\n",
              "      <td>Aaron Gray</td>\n",
              "      <td>Aaron</td>\n",
              "      <td>1610612740</td>\n",
              "      <td>NOH</td>\n",
              "      <td>26.0</td>\n",
              "      <td>41</td>\n",
              "      <td>21</td>\n",
              "      <td>20</td>\n",
              "      <td>0.512</td>\n",
              "      <td>...</td>\n",
              "      <td>420</td>\n",
              "      <td>332</td>\n",
              "      <td>338</td>\n",
              "      <td>361</td>\n",
              "      <td>347</td>\n",
              "      <td>378</td>\n",
              "      <td>23</td>\n",
              "      <td>2010</td>\n",
              "      <td>True</td>\n",
              "      <td>False</td>\n",
              "    </tr>\n",
              "    <tr>\n",
              "      <th>3</th>\n",
              "      <td>201151</td>\n",
              "      <td>Acie Law</td>\n",
              "      <td>Acie</td>\n",
              "      <td>1610612744</td>\n",
              "      <td>GSW</td>\n",
              "      <td>26.0</td>\n",
              "      <td>51</td>\n",
              "      <td>20</td>\n",
              "      <td>31</td>\n",
              "      <td>0.392</td>\n",
              "      <td>...</td>\n",
              "      <td>100</td>\n",
              "      <td>307</td>\n",
              "      <td>305</td>\n",
              "      <td>304</td>\n",
              "      <td>326</td>\n",
              "      <td>326</td>\n",
              "      <td>264</td>\n",
              "      <td>2010</td>\n",
              "      <td>True</td>\n",
              "      <td>False</td>\n",
              "    </tr>\n",
              "    <tr>\n",
              "      <th>4</th>\n",
              "      <td>1733</td>\n",
              "      <td>Al Harrington</td>\n",
              "      <td>Al</td>\n",
              "      <td>1610612743</td>\n",
              "      <td>DEN</td>\n",
              "      <td>31.0</td>\n",
              "      <td>73</td>\n",
              "      <td>45</td>\n",
              "      <td>28</td>\n",
              "      <td>0.616</td>\n",
              "      <td>...</td>\n",
              "      <td>50</td>\n",
              "      <td>258</td>\n",
              "      <td>130</td>\n",
              "      <td>112</td>\n",
              "      <td>141</td>\n",
              "      <td>119</td>\n",
              "      <td>319</td>\n",
              "      <td>2010</td>\n",
              "      <td>True</td>\n",
              "      <td>False</td>\n",
              "    </tr>\n",
              "  </tbody>\n",
              "</table>\n",
              "<p>5 rows × 81 columns</p>\n",
              "</div>\n",
              "      <button class=\"colab-df-convert\" onclick=\"convertToInteractive('df-63a7ffcf-6989-499e-82d7-7953c557a5cd')\"\n",
              "              title=\"Convert this dataframe to an interactive table.\"\n",
              "              style=\"display:none;\">\n",
              "        \n",
              "  <svg xmlns=\"http://www.w3.org/2000/svg\" height=\"24px\"viewBox=\"0 0 24 24\"\n",
              "       width=\"24px\">\n",
              "    <path d=\"M0 0h24v24H0V0z\" fill=\"none\"/>\n",
              "    <path d=\"M18.56 5.44l.94 2.06.94-2.06 2.06-.94-2.06-.94-.94-2.06-.94 2.06-2.06.94zm-11 1L8.5 8.5l.94-2.06 2.06-.94-2.06-.94L8.5 2.5l-.94 2.06-2.06.94zm10 10l.94 2.06.94-2.06 2.06-.94-2.06-.94-.94-2.06-.94 2.06-2.06.94z\"/><path d=\"M17.41 7.96l-1.37-1.37c-.4-.4-.92-.59-1.43-.59-.52 0-1.04.2-1.43.59L10.3 9.45l-7.72 7.72c-.78.78-.78 2.05 0 2.83L4 21.41c.39.39.9.59 1.41.59.51 0 1.02-.2 1.41-.59l7.78-7.78 2.81-2.81c.8-.78.8-2.07 0-2.86zM5.41 20L4 18.59l7.72-7.72 1.47 1.35L5.41 20z\"/>\n",
              "  </svg>\n",
              "      </button>\n",
              "      \n",
              "  <style>\n",
              "    .colab-df-container {\n",
              "      display:flex;\n",
              "      flex-wrap:wrap;\n",
              "      gap: 12px;\n",
              "    }\n",
              "\n",
              "    .colab-df-convert {\n",
              "      background-color: #E8F0FE;\n",
              "      border: none;\n",
              "      border-radius: 50%;\n",
              "      cursor: pointer;\n",
              "      display: none;\n",
              "      fill: #1967D2;\n",
              "      height: 32px;\n",
              "      padding: 0 0 0 0;\n",
              "      width: 32px;\n",
              "    }\n",
              "\n",
              "    .colab-df-convert:hover {\n",
              "      background-color: #E2EBFA;\n",
              "      box-shadow: 0px 1px 2px rgba(60, 64, 67, 0.3), 0px 1px 3px 1px rgba(60, 64, 67, 0.15);\n",
              "      fill: #174EA6;\n",
              "    }\n",
              "\n",
              "    [theme=dark] .colab-df-convert {\n",
              "      background-color: #3B4455;\n",
              "      fill: #D2E3FC;\n",
              "    }\n",
              "\n",
              "    [theme=dark] .colab-df-convert:hover {\n",
              "      background-color: #434B5C;\n",
              "      box-shadow: 0px 1px 3px 1px rgba(0, 0, 0, 0.15);\n",
              "      filter: drop-shadow(0px 1px 2px rgba(0, 0, 0, 0.3));\n",
              "      fill: #FFFFFF;\n",
              "    }\n",
              "  </style>\n",
              "\n",
              "      <script>\n",
              "        const buttonEl =\n",
              "          document.querySelector('#df-63a7ffcf-6989-499e-82d7-7953c557a5cd button.colab-df-convert');\n",
              "        buttonEl.style.display =\n",
              "          google.colab.kernel.accessAllowed ? 'block' : 'none';\n",
              "\n",
              "        async function convertToInteractive(key) {\n",
              "          const element = document.querySelector('#df-63a7ffcf-6989-499e-82d7-7953c557a5cd');\n",
              "          const dataTable =\n",
              "            await google.colab.kernel.invokeFunction('convertToInteractive',\n",
              "                                                     [key], {});\n",
              "          if (!dataTable) return;\n",
              "\n",
              "          const docLinkHtml = 'Like what you see? Visit the ' +\n",
              "            '<a target=\"_blank\" href=https://colab.research.google.com/notebooks/data_table.ipynb>data table notebook</a>'\n",
              "            + ' to learn more about interactive tables.';\n",
              "          element.innerHTML = '';\n",
              "          dataTable['output_type'] = 'display_data';\n",
              "          await google.colab.output.renderOutput(dataTable, element);\n",
              "          const docLink = document.createElement('div');\n",
              "          docLink.innerHTML = docLinkHtml;\n",
              "          element.appendChild(docLink);\n",
              "        }\n",
              "      </script>\n",
              "    </div>\n",
              "  </div>\n",
              "  "
            ]
          },
          "metadata": {},
          "execution_count": 4
        }
      ]
    },
    {
      "cell_type": "code",
      "source": [
        "data.loc[:,[\"SEVERE_INJURY\", \"MINOR_INJURY\"]] = data[[\"MINOR_INJURY\", \"SEVERE_INJURY\"]].fillna(False) #replaces NAs with falses, because \n",
        "#NAs mean there was nothing in the injury set when we did the join"
      ],
      "metadata": {
        "id": "Kp6WmItCdK4p"
      },
      "execution_count": null,
      "outputs": []
    },
    {
      "cell_type": "code",
      "source": [
        "#data.columns # view columns which are \"features\""
      ],
      "metadata": {
        "id": "luKHASEkdPIN"
      },
      "execution_count": null,
      "outputs": []
    },
    {
      "cell_type": "code",
      "source": [
        "features = data.columns[5:-3]\n",
        "X = data[features].copy()\n",
        "injuries = data.columns[-2:]\n",
        "y = data[injuries].copy()\n",
        "X = X.values\n",
        "# make this a two-class classifier with injured or not, treating minor and major as the same. This is just for preliminary results,\n",
        "# we will explore multi-class solutions later\n",
        "y['INJURY'] = (y['SEVERE_INJURY'] | y['MINOR_INJURY'])\n",
        "y = y[['INJURY']]\n",
        "y = np.ravel(y.values)"
      ],
      "metadata": {
        "id": "Ko72vdWid7DN"
      },
      "execution_count": null,
      "outputs": []
    },
    {
      "cell_type": "code",
      "source": [
        "gss = GroupShuffleSplit(n_splits=1, test_size=0.2, random_state=42)\n",
        "train_idx, test_idx = next(gss.split(X=X, y=y, groups=data['PLAYER_NAME']))\n",
        "X_train, y_train = X[train_idx], y[train_idx]\n",
        "X_test, y_test = X[test_idx], y[test_idx]"
      ],
      "metadata": {
        "id": "XWuTO60AmpKm"
      },
      "execution_count": null,
      "outputs": []
    },
    {
      "cell_type": "code",
      "source": [
        "knn_pipeline = Pipeline([\n",
        "    ('scaler', StandardScaler()),   # Step 1: Preprocessing with StandardScaler\n",
        "    ('knn', KNeighborsClassifier()) # Step 2: KNN classification\n",
        "])\n",
        "\n",
        "knn_pipeline.fit(X_train, y_train)\n",
        "y_pred = knn_pipeline.predict(X_test)"
      ],
      "metadata": {
        "id": "El9hWHrTm83E"
      },
      "execution_count": null,
      "outputs": []
    },
    {
      "cell_type": "code",
      "source": [
        "def fbeta_score(y_true, y_pred, beta):\n",
        "    precision, recall, fbeta, _ = precision_recall_fscore_support(y_true, y_pred, beta=beta, average=\"binary\")\n",
        "    return precision, recall, fbeta"
      ],
      "metadata": {
        "id": "AgdC8q5OnVWi"
      },
      "execution_count": null,
      "outputs": []
    },
    {
      "cell_type": "code",
      "source": [
        "precision, recall, fbeta = fbeta_score(y_test, y_pred, 2)\n",
        "print(f\"The precision is {precision}, the recall is {recall}, and the fbeta with beta=2 is {fbeta}\")"
      ],
      "metadata": {
        "colab": {
          "base_uri": "https://localhost:8080/"
        },
        "id": "88iV5cl5rOqF",
        "outputId": "c01892a6-780e-4ec1-be5e-50d5a3f4990b"
      },
      "execution_count": null,
      "outputs": [
        {
          "output_type": "stream",
          "name": "stdout",
          "text": [
            "The precision is 0.6995412844036697, the recall is 0.7840616966580977, and the fbeta with beta=2 is 0.7655622489959839\n"
          ]
        }
      ]
    },
    {
      "cell_type": "code",
      "source": [],
      "metadata": {
        "id": "MlHNyBa5rXG1"
      },
      "execution_count": null,
      "outputs": []
    }
  ]
}