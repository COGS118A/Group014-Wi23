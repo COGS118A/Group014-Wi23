{
 "cells": [
  {
   "cell_type": "markdown",
   "metadata": {
    "colab_type": "text",
    "id": "view-in-github"
   },
   "source": [
    "<a href=\"https://colab.research.google.com/github/COGS118A/Group014-Wi23/blob/main/PreliminaryResults118a.ipynb\" target=\"_parent\"><img src=\"https://colab.research.google.com/assets/colab-badge.svg\" alt=\"Open In Colab\"/></a>"
   ]
  },
  {
   "cell_type": "code",
   "execution_count": 1,
   "metadata": {
    "id": "uw-F8q5ibcoy"
   },
   "outputs": [],
   "source": [
    "import pandas as pd\n",
    "import numpy as np\n",
    "from sklearn.model_selection import GroupShuffleSplit\n",
    "from sklearn.pipeline import Pipeline\n",
    "from sklearn.preprocessing import StandardScaler\n",
    "from sklearn.neighbors import KNeighborsClassifier\n",
    "from sklearn.metrics import precision_recall_fscore_support"
   ]
  },
  {
   "cell_type": "code",
   "execution_count": 2,
   "metadata": {
    "id": "rKtl9QrLdCid"
   },
   "outputs": [],
   "source": [
    "url = \"https://raw.githubusercontent.com/COGS118A/Group014-Wi23/main/nba_api_merged_injuries\"\n",
    "data = pd.read_csv(url)"
   ]
  },
  {
   "cell_type": "code",
   "execution_count": 3,
   "metadata": {
    "colab": {
     "base_uri": "https://localhost:8080/",
     "height": 317
    },
    "id": "GmNGw9KvdHRV",
    "outputId": "ff3657ed-adbd-4250-968b-a1621a84cdaf"
   },
   "outputs": [
    {
     "data": {
      "text/html": [
       "<div>\n",
       "<style scoped>\n",
       "    .dataframe tbody tr th:only-of-type {\n",
       "        vertical-align: middle;\n",
       "    }\n",
       "\n",
       "    .dataframe tbody tr th {\n",
       "        vertical-align: top;\n",
       "    }\n",
       "\n",
       "    .dataframe thead th {\n",
       "        text-align: right;\n",
       "    }\n",
       "</style>\n",
       "<table border=\"1\" class=\"dataframe\">\n",
       "  <thead>\n",
       "    <tr style=\"text-align: right;\">\n",
       "      <th></th>\n",
       "      <th>PLAYER_ID</th>\n",
       "      <th>PLAYER_NAME</th>\n",
       "      <th>NICKNAME</th>\n",
       "      <th>TEAM_ID</th>\n",
       "      <th>TEAM_ABBREVIATION</th>\n",
       "      <th>AGE</th>\n",
       "      <th>GP</th>\n",
       "      <th>W</th>\n",
       "      <th>L</th>\n",
       "      <th>W_PCT</th>\n",
       "      <th>...</th>\n",
       "      <th>sp_work_PACE_RANK</th>\n",
       "      <th>PIE_RANK</th>\n",
       "      <th>FGM_RANK</th>\n",
       "      <th>FGA_RANK</th>\n",
       "      <th>FGM_PG_RANK</th>\n",
       "      <th>FGA_PG_RANK</th>\n",
       "      <th>FG_PCT_RANK</th>\n",
       "      <th>SEASON_YEAR</th>\n",
       "      <th>SEVERE_INJURY</th>\n",
       "      <th>MINOR_INJURY</th>\n",
       "    </tr>\n",
       "  </thead>\n",
       "  <tbody>\n",
       "    <tr>\n",
       "      <th>0</th>\n",
       "      <td>201985</td>\n",
       "      <td>AJ Price</td>\n",
       "      <td>AJ</td>\n",
       "      <td>1610612754</td>\n",
       "      <td>IND</td>\n",
       "      <td>24.0</td>\n",
       "      <td>50</td>\n",
       "      <td>22</td>\n",
       "      <td>28</td>\n",
       "      <td>0.440</td>\n",
       "      <td>...</td>\n",
       "      <td>153</td>\n",
       "      <td>278</td>\n",
       "      <td>270</td>\n",
       "      <td>240</td>\n",
       "      <td>253</td>\n",
       "      <td>210</td>\n",
       "      <td>408</td>\n",
       "      <td>2010</td>\n",
       "      <td>True</td>\n",
       "      <td>False</td>\n",
       "    </tr>\n",
       "    <tr>\n",
       "      <th>1</th>\n",
       "      <td>201166</td>\n",
       "      <td>Aaron Brooks</td>\n",
       "      <td>Aaron</td>\n",
       "      <td>1610612756</td>\n",
       "      <td>PHX</td>\n",
       "      <td>26.0</td>\n",
       "      <td>59</td>\n",
       "      <td>26</td>\n",
       "      <td>33</td>\n",
       "      <td>0.441</td>\n",
       "      <td>...</td>\n",
       "      <td>133</td>\n",
       "      <td>259</td>\n",
       "      <td>179</td>\n",
       "      <td>143</td>\n",
       "      <td>151</td>\n",
       "      <td>109</td>\n",
       "      <td>390</td>\n",
       "      <td>2010</td>\n",
       "      <td>True</td>\n",
       "      <td>False</td>\n",
       "    </tr>\n",
       "    <tr>\n",
       "      <th>2</th>\n",
       "      <td>201189</td>\n",
       "      <td>Aaron Gray</td>\n",
       "      <td>Aaron</td>\n",
       "      <td>1610612740</td>\n",
       "      <td>NOH</td>\n",
       "      <td>26.0</td>\n",
       "      <td>41</td>\n",
       "      <td>21</td>\n",
       "      <td>20</td>\n",
       "      <td>0.512</td>\n",
       "      <td>...</td>\n",
       "      <td>420</td>\n",
       "      <td>332</td>\n",
       "      <td>338</td>\n",
       "      <td>361</td>\n",
       "      <td>347</td>\n",
       "      <td>378</td>\n",
       "      <td>23</td>\n",
       "      <td>2010</td>\n",
       "      <td>True</td>\n",
       "      <td>False</td>\n",
       "    </tr>\n",
       "    <tr>\n",
       "      <th>3</th>\n",
       "      <td>201151</td>\n",
       "      <td>Acie Law</td>\n",
       "      <td>Acie</td>\n",
       "      <td>1610612744</td>\n",
       "      <td>GSW</td>\n",
       "      <td>26.0</td>\n",
       "      <td>51</td>\n",
       "      <td>20</td>\n",
       "      <td>31</td>\n",
       "      <td>0.392</td>\n",
       "      <td>...</td>\n",
       "      <td>100</td>\n",
       "      <td>307</td>\n",
       "      <td>305</td>\n",
       "      <td>304</td>\n",
       "      <td>326</td>\n",
       "      <td>326</td>\n",
       "      <td>264</td>\n",
       "      <td>2010</td>\n",
       "      <td>True</td>\n",
       "      <td>False</td>\n",
       "    </tr>\n",
       "    <tr>\n",
       "      <th>4</th>\n",
       "      <td>1733</td>\n",
       "      <td>Al Harrington</td>\n",
       "      <td>Al</td>\n",
       "      <td>1610612743</td>\n",
       "      <td>DEN</td>\n",
       "      <td>31.0</td>\n",
       "      <td>73</td>\n",
       "      <td>45</td>\n",
       "      <td>28</td>\n",
       "      <td>0.616</td>\n",
       "      <td>...</td>\n",
       "      <td>50</td>\n",
       "      <td>258</td>\n",
       "      <td>130</td>\n",
       "      <td>112</td>\n",
       "      <td>141</td>\n",
       "      <td>119</td>\n",
       "      <td>319</td>\n",
       "      <td>2010</td>\n",
       "      <td>True</td>\n",
       "      <td>False</td>\n",
       "    </tr>\n",
       "  </tbody>\n",
       "</table>\n",
       "<p>5 rows × 81 columns</p>\n",
       "</div>"
      ],
      "text/plain": [
       "   PLAYER_ID    PLAYER_NAME NICKNAME     TEAM_ID TEAM_ABBREVIATION   AGE  GP  \\\n",
       "0     201985       AJ Price       AJ  1610612754               IND  24.0  50   \n",
       "1     201166   Aaron Brooks    Aaron  1610612756               PHX  26.0  59   \n",
       "2     201189     Aaron Gray    Aaron  1610612740               NOH  26.0  41   \n",
       "3     201151       Acie Law     Acie  1610612744               GSW  26.0  51   \n",
       "4       1733  Al Harrington       Al  1610612743               DEN  31.0  73   \n",
       "\n",
       "    W   L  W_PCT  ...  sp_work_PACE_RANK  PIE_RANK  FGM_RANK  FGA_RANK  \\\n",
       "0  22  28  0.440  ...                153       278       270       240   \n",
       "1  26  33  0.441  ...                133       259       179       143   \n",
       "2  21  20  0.512  ...                420       332       338       361   \n",
       "3  20  31  0.392  ...                100       307       305       304   \n",
       "4  45  28  0.616  ...                 50       258       130       112   \n",
       "\n",
       "   FGM_PG_RANK  FGA_PG_RANK  FG_PCT_RANK  SEASON_YEAR  SEVERE_INJURY  \\\n",
       "0          253          210          408         2010           True   \n",
       "1          151          109          390         2010           True   \n",
       "2          347          378           23         2010           True   \n",
       "3          326          326          264         2010           True   \n",
       "4          141          119          319         2010           True   \n",
       "\n",
       "   MINOR_INJURY  \n",
       "0         False  \n",
       "1         False  \n",
       "2         False  \n",
       "3         False  \n",
       "4         False  \n",
       "\n",
       "[5 rows x 81 columns]"
      ]
     },
     "execution_count": 3,
     "metadata": {},
     "output_type": "execute_result"
    }
   ],
   "source": [
    "data.head()"
   ]
  },
  {
   "cell_type": "code",
   "execution_count": 4,
   "metadata": {
    "id": "Kp6WmItCdK4p"
   },
   "outputs": [],
   "source": [
    "data.loc[:,[\"SEVERE_INJURY\", \"MINOR_INJURY\"]] = data[[\"MINOR_INJURY\", \"SEVERE_INJURY\"]].fillna(False) #replaces NAs with falses, because \n",
    "#NAs mean there was nothing in the injury set when we did the join"
   ]
  },
  {
   "cell_type": "code",
   "execution_count": 11,
   "metadata": {
    "id": "luKHASEkdPIN"
   },
   "outputs": [
    {
     "data": {
      "text/plain": [
       "Index(['PLAYER_ID', 'PLAYER_NAME', 'NICKNAME', 'TEAM_ID', 'TEAM_ABBREVIATION',\n",
       "       'AGE', 'GP', 'W', 'L', 'W_PCT', 'MIN', 'E_OFF_RATING', 'OFF_RATING',\n",
       "       'sp_work_OFF_RATING', 'E_DEF_RATING', 'DEF_RATING',\n",
       "       'sp_work_DEF_RATING', 'E_NET_RATING', 'NET_RATING',\n",
       "       'sp_work_NET_RATING', 'AST_PCT', 'AST_TO', 'AST_RATIO', 'OREB_PCT',\n",
       "       'DREB_PCT', 'REB_PCT', 'TM_TOV_PCT', 'E_TOV_PCT', 'EFG_PCT', 'TS_PCT',\n",
       "       'USG_PCT', 'E_USG_PCT', 'E_PACE', 'PACE', 'PACE_PER40', 'sp_work_PACE',\n",
       "       'PIE', 'POSS', 'FGM', 'FGA', 'FGM_PG', 'FGA_PG', 'FG_PCT', 'GP_RANK',\n",
       "       'W_RANK', 'L_RANK', 'W_PCT_RANK', 'MIN_RANK', 'E_OFF_RATING_RANK',\n",
       "       'OFF_RATING_RANK', 'sp_work_OFF_RATING_RANK', 'E_DEF_RATING_RANK',\n",
       "       'DEF_RATING_RANK', 'sp_work_DEF_RATING_RANK', 'E_NET_RATING_RANK',\n",
       "       'NET_RATING_RANK', 'sp_work_NET_RATING_RANK', 'AST_PCT_RANK',\n",
       "       'AST_TO_RANK', 'AST_RATIO_RANK', 'OREB_PCT_RANK', 'DREB_PCT_RANK',\n",
       "       'REB_PCT_RANK', 'TM_TOV_PCT_RANK', 'E_TOV_PCT_RANK', 'EFG_PCT_RANK',\n",
       "       'TS_PCT_RANK', 'USG_PCT_RANK', 'E_USG_PCT_RANK', 'E_PACE_RANK',\n",
       "       'PACE_RANK', 'sp_work_PACE_RANK', 'PIE_RANK', 'FGM_RANK', 'FGA_RANK',\n",
       "       'FGM_PG_RANK', 'FGA_PG_RANK', 'FG_PCT_RANK', 'SEASON_YEAR',\n",
       "       'SEVERE_INJURY', 'MINOR_INJURY'],\n",
       "      dtype='object')"
      ]
     },
     "execution_count": 11,
     "metadata": {},
     "output_type": "execute_result"
    }
   ],
   "source": [
    "data.columns # view columns which are \"features\""
   ]
  },
  {
   "cell_type": "code",
   "execution_count": 6,
   "metadata": {
    "id": "Ko72vdWid7DN"
   },
   "outputs": [],
   "source": [
    "features = data.columns[5:-3]\n",
    "X = data[features].copy()\n",
    "injuries = data.columns[-2:]\n",
    "y = data[injuries].copy()\n",
    "X = X.values\n",
    "# make this a two-class classifier with injured or not, treating minor and major as the same. This is just for preliminary results,\n",
    "# we will explore multi-class solutions later\n",
    "y['INJURY'] = (y['SEVERE_INJURY'] | y['MINOR_INJURY'])\n",
    "y = y[['INJURY']]\n",
    "y = np.ravel(y.values)"
   ]
  },
  {
   "cell_type": "code",
   "execution_count": 7,
   "metadata": {
    "id": "XWuTO60AmpKm"
   },
   "outputs": [],
   "source": [
    "gss = GroupShuffleSplit(n_splits=1, test_size=0.2, random_state=42)\n",
    "train_idx, test_idx = next(gss.split(X=X, y=y, groups=data['PLAYER_NAME']))\n",
    "X_train, y_train = X[train_idx], y[train_idx]\n",
    "X_test, y_test = X[test_idx], y[test_idx]"
   ]
  },
  {
   "cell_type": "code",
   "execution_count": 8,
   "metadata": {
    "id": "El9hWHrTm83E"
   },
   "outputs": [],
   "source": [
    "knn_pipeline = Pipeline([\n",
    "    ('scaler', StandardScaler()),   # Step 1: Preprocessing with StandardScaler\n",
    "    ('knn', KNeighborsClassifier()) # Step 2: KNN classification\n",
    "])\n",
    "\n",
    "knn_pipeline.fit(X_train, y_train)\n",
    "y_pred = knn_pipeline.predict(X_test)"
   ]
  },
  {
   "cell_type": "code",
   "execution_count": 9,
   "metadata": {
    "id": "AgdC8q5OnVWi"
   },
   "outputs": [],
   "source": [
    "def fbeta_score(y_true, y_pred, beta):\n",
    "    precision, recall, fbeta, _ = precision_recall_fscore_support(y_true, y_pred, beta=beta, average=\"binary\")\n",
    "    return precision, recall, fbeta"
   ]
  },
  {
   "cell_type": "code",
   "execution_count": 10,
   "metadata": {
    "colab": {
     "base_uri": "https://localhost:8080/"
    },
    "id": "88iV5cl5rOqF",
    "outputId": "c01892a6-780e-4ec1-be5e-50d5a3f4990b"
   },
   "outputs": [
    {
     "name": "stdout",
     "output_type": "stream",
     "text": [
      "The precision is 0.6995412844036697, the recall is 0.7840616966580977, and the fbeta with beta=2 is 0.7655622489959839\n"
     ]
    }
   ],
   "source": [
    "precision, recall, fbeta = fbeta_score(y_test, y_pred, 2)\n",
    "print(f\"The precision is {precision}, the recall is {recall}, and the fbeta with beta=2 is {fbeta}\")"
   ]
  },
  {
   "cell_type": "code",
   "execution_count": 16,
   "metadata": {
    "id": "MlHNyBa5rXG1"
   },
   "outputs": [],
   "source": [
    "from sklearn.metrics import confusion_matrix\n",
    "from sklearn.metrics import ConfusionMatrixDisplay"
   ]
  },
  {
   "cell_type": "code",
   "execution_count": 13,
   "metadata": {},
   "outputs": [],
   "source": [
    "cm = confusion_matrix(y_test, y_pred)"
   ]
  },
  {
   "cell_type": "code",
   "execution_count": 19,
   "metadata": {},
   "outputs": [
    {
     "data": {
      "text/plain": [
       "<sklearn.metrics._plot.confusion_matrix.ConfusionMatrixDisplay at 0x22eb362e5e0>"
      ]
     },
     "execution_count": 19,
     "metadata": {},
     "output_type": "execute_result"
    },
    {
     "data": {
      "image/png": "[encoded data removed]",
      "text/plain": [
       "<Figure size 432x288 with 2 Axes>"
      ]
     },
     "metadata": {
      "needs_background": "light"
     },
     "output_type": "display_data"
    }
   ],
   "source": [
    "disp = ConfusionMatrixDisplay(cm)\n",
    "disp.plot()\n"
   ]
  },
  {
   "cell_type": "code",
   "execution_count": null,
   "metadata": {},
   "outputs": [],
   "source": []
  }
 ],
 "metadata": {
  "colab": {
   "include_colab_link": true,
   "provenance": []
  },
  "kernelspec": {
   "display_name": "Python 3",
   "language": "python",
   "name": "python3"
  },
  "language_info": {
   "codemirror_mode": {
    "name": "ipython",
    "version": 3
   },
   "file_extension": ".py",
   "mimetype": "text/x-python",
   "name": "python",
   "nbconvert_exporter": "python",
   "pygments_lexer": "ipython3",
   "version": "3.8.8"
  }
 },
 "nbformat": 4,
 "nbformat_minor": 4
}
