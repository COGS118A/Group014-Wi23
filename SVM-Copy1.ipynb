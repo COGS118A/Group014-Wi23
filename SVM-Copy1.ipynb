{
 "cells": [
  {
   "cell_type": "code",
   "execution_count": 1,
   "id": "53397144",
   "metadata": {},
   "outputs": [],
   "source": [
    "import pandas as pd\n",
    "from sklearn.model_selection import GroupShuffleSplit, GridSearchCV, RandomizedSearchCV\n",
    "from sklearn.pipeline import Pipeline\n",
    "from sklearn.preprocessing import StandardScaler\n",
    "from sklearn.svm import SVC\n",
    "from sklearn.metrics import precision_recall_fscore_support, make_scorer\n",
    "import numpy as np"
   ]
  },
  {
   "cell_type": "code",
   "execution_count": 2,
   "id": "b469d8fc",
   "metadata": {},
   "outputs": [],
   "source": [
    "dataset = pd.read_csv('nba_api_merged_injuries.csv')"
   ]
  },
  {
   "cell_type": "code",
   "execution_count": 3,
   "id": "ca833ac2",
   "metadata": {},
   "outputs": [
    {
     "name": "stdout",
     "output_type": "stream",
     "text": [
      "[[2.400e+01 5.000e+01 4.400e-01 ... 1.579e+03 6.400e+00 3.560e-01]\n",
      " [2.600e+01 5.900e+01 4.410e-01 ... 2.571e+03 9.900e+00 3.750e-01]\n",
      " [2.600e+01 4.100e+01 5.120e-01 ... 9.970e+02 2.400e+00 5.660e-01]\n",
      " ...\n",
      " [2.200e+01 4.400e+01 6.590e-01 ... 1.199e+03 3.500e+00 5.720e-01]\n",
      " [2.100e+01 3.100e+01 6.130e-01 ... 1.054e+03 5.300e+00 4.110e-01]\n",
      " [2.200e+01 2.900e+01 5.860e-01 ... 2.031e+03 1.620e+01 6.080e-01]]\n"
     ]
    }
   ],
   "source": [
    "features = dataset[['AGE', 'GP', 'W_PCT', 'MIN', 'E_OFF_RATING', 'E_DEF_RATING', 'AST_PCT',\n",
    "       'AST_TO', 'AST_RATIO', 'OREB_PCT', 'DREB_PCT', 'REB_PCT', 'E_TOV_PCT',\n",
    "       'USG_PCT', 'E_USG_PCT', 'PACE_PER40', 'PIE', 'POSS', 'FGA_PG',\n",
    "       'FG_PCT']]\n",
    "features = features.values\n",
    "print(features)"
   ]
  },
  {
   "cell_type": "code",
   "execution_count": 4,
   "id": "1eb7d979",
   "metadata": {},
   "outputs": [
    {
     "name": "stdout",
     "output_type": "stream",
     "text": [
      "[ True  True  True ... False False False]\n"
     ]
    }
   ],
   "source": [
    "labels = pd.read_csv('https://raw.githubusercontent.com/COGS118A/Group014-Wi23/main/nba_api_merged_injuries').iloc[:,-2:]\n",
    "labels = labels.fillna(False)\n",
    "labels['INJ'] = (labels['SEVERE_INJURY'] | labels['MINOR_INJURY'])\n",
    "labels = labels[['INJ']]\n",
    "labels = np.ravel(labels.values)\n",
    "print(labels)"
   ]
  },
  {
   "cell_type": "code",
   "execution_count": 5,
   "id": "61f2d5fb",
   "metadata": {},
   "outputs": [
    {
     "name": "stdout",
     "output_type": "stream",
     "text": [
      "(6593,)\n",
      "(6593, 20)\n"
     ]
    }
   ],
   "source": [
    "print(labels.shape)\n",
    "print(features.shape)"
   ]
  },
  {
   "cell_type": "code",
   "execution_count": 6,
   "id": "d1dd65a9",
   "metadata": {},
   "outputs": [],
   "source": [
    "gss = GroupShuffleSplit(n_splits=1, test_size=0.2, random_state=42) # as per TA feedback, we implement Group Shuffle Split to ensure each\n",
    "# player is either all in the train set or all in the test set, even if we have multiple years of data for them. \n",
    "train_idx, test_idx = next(gss.split(X=features, y=labels, groups=dataset['PLAYER_NAME']))\n",
    "X_train, y_train = features[train_idx], labels[train_idx]\n",
    "X_test, y_test = features[test_idx], labels[test_idx]"
   ]
  },
  {
   "cell_type": "code",
   "execution_count": 7,
   "id": "738c550d",
   "metadata": {},
   "outputs": [],
   "source": [
    "def fbeta_score(y_true, y_pred):\n",
    "    precision, recall, fbeta, _ = precision_recall_fscore_support(y_true, y_pred, beta=2, average=\"binary\") #error function for our F beta which weights recall more than precision\n",
    "    return precision, recall, fbeta\n",
    "    \n",
    "def fbeta_score_gridsearchcv(estimator, X, y):\n",
    "    y_pred = estimator.predict(X)\n",
    "    precision, recall, fbeta, _ = precision_recall_fscore_support(y, y_pred, beta=2, average=\"binary\") #slight modification of error function for the gridsearch\n",
    "\n",
    "    return {'precision': precision, 'recall': recall, 'fbeta' : fbeta}"
   ]
  },
  {
   "cell_type": "code",
   "execution_count": 8,
   "id": "38d6f671",
   "metadata": {},
   "outputs": [],
   "source": [
    "SVC_pipeline = Pipeline([\n",
    "    ('scaler', StandardScaler()),   # Step 1: Preprocessing with StandardScaler\n",
    "    ('svm', SVC()) # Step 2: SVC classification\n",
    "])"
   ]
  },
  {
   "cell_type": "code",
   "execution_count": 9,
   "id": "3f828cc2",
   "metadata": {},
   "outputs": [],
   "source": [
    "param_grid = {'svm__kernel': ('poly', 'rbf'),\n",
    "              'svm__C' : (1,10),\n",
    "              'svm__degree' : (2,3,7)\n",
    "             }"
   ]
  },
  {
   "cell_type": "code",
   "execution_count": 18,
   "id": "b3f677d2",
   "metadata": {},
   "outputs": [],
   "source": [
    "grid_search = GridSearchCV(estimator=SVC_pipeline, param_grid=param_grid, scoring=fbeta_score_gridsearchcv, cv=5, verbose=3, refit='recall')"
   ]
  },
  {
   "cell_type": "code",
   "execution_count": 19,
   "id": "256ae431",
   "metadata": {
    "scrolled": false
   },
   "outputs": [
    {
     "name": "stdout",
     "output_type": "stream",
     "text": [
      "Fitting 5 folds for each of 12 candidates, totalling 60 fits\n",
      "[CV 1/5] END svm__C=1, svm__degree=2, svm__kernel=poly; fbeta: (test=0.847) precision: (test=0.568) recall: (test=0.966) total time=   0.6s\n",
      "[CV 2/5] END svm__C=1, svm__degree=2, svm__kernel=poly; fbeta: (test=0.849) precision: (test=0.585) recall: (test=0.957) total time=   0.7s\n",
      "[CV 3/5] END svm__C=1, svm__degree=2, svm__kernel=poly; fbeta: (test=0.838) precision: (test=0.579) recall: (test=0.944) total time=   0.7s\n",
      "[CV 4/5] END svm__C=1, svm__degree=2, svm__kernel=poly; fbeta: (test=0.821) precision: (test=0.586) recall: (test=0.913) total time=   0.7s\n",
      "[CV 5/5] END svm__C=1, svm__degree=2, svm__kernel=poly; fbeta: (test=0.812) precision: (test=0.590) recall: (test=0.896) total time=   0.7s\n",
      "[CV 1/5] END svm__C=1, svm__degree=2, svm__kernel=rbf; fbeta: (test=0.838) precision: (test=0.575) recall: (test=0.947) total time=   0.7s\n",
      "[CV 2/5] END svm__C=1, svm__degree=2, svm__kernel=rbf; fbeta: (test=0.871) precision: (test=0.661) recall: (test=0.945) total time=   0.9s\n",
      "[CV 3/5] END svm__C=1, svm__degree=2, svm__kernel=rbf; fbeta: (test=0.869) precision: (test=0.755) recall: (test=0.903) total time=   0.9s\n",
      "[CV 4/5] END svm__C=1, svm__degree=2, svm__kernel=rbf; fbeta: (test=0.747) precision: (test=0.772) recall: (test=0.741) total time=   0.8s\n",
      "[CV 5/5] END svm__C=1, svm__degree=2, svm__kernel=rbf; fbeta: (test=0.249) precision: (test=0.805) recall: (test=0.212) total time=   0.7s\n",
      "[CV 1/5] END svm__C=1, svm__degree=3, svm__kernel=poly; fbeta: (test=0.843) precision: (test=0.568) recall: (test=0.959) total time=   0.6s\n",
      "[CV 2/5] END svm__C=1, svm__degree=3, svm__kernel=poly; fbeta: (test=0.855) precision: (test=0.611) recall: (test=0.950) total time=   0.7s\n",
      "[CV 3/5] END svm__C=1, svm__degree=3, svm__kernel=poly; fbeta: (test=0.847) precision: (test=0.612) recall: (test=0.937) total time=   0.7s\n",
      "[CV 4/5] END svm__C=1, svm__degree=3, svm__kernel=poly; fbeta: (test=0.803) precision: (test=0.644) recall: (test=0.856) total time=   0.6s\n",
      "[CV 5/5] END svm__C=1, svm__degree=3, svm__kernel=poly; fbeta: (test=0.507) precision: (test=0.634) recall: (test=0.483) total time=   0.7s\n",
      "[CV 1/5] END svm__C=1, svm__degree=3, svm__kernel=rbf; fbeta: (test=0.838) precision: (test=0.575) recall: (test=0.947) total time=   0.7s\n",
      "[CV 2/5] END svm__C=1, svm__degree=3, svm__kernel=rbf; fbeta: (test=0.871) precision: (test=0.661) recall: (test=0.945) total time=   0.8s\n",
      "[CV 3/5] END svm__C=1, svm__degree=3, svm__kernel=rbf; fbeta: (test=0.869) precision: (test=0.755) recall: (test=0.903) total time=   0.9s\n",
      "[CV 4/5] END svm__C=1, svm__degree=3, svm__kernel=rbf; fbeta: (test=0.747) precision: (test=0.772) recall: (test=0.741) total time=   0.8s\n",
      "[CV 5/5] END svm__C=1, svm__degree=3, svm__kernel=rbf; fbeta: (test=0.249) precision: (test=0.805) recall: (test=0.212) total time=   0.7s\n",
      "[CV 1/5] END svm__C=1, svm__degree=7, svm__kernel=poly; fbeta: (test=0.846) precision: (test=0.567) recall: (test=0.964) total time=   0.7s\n",
      "[CV 2/5] END svm__C=1, svm__degree=7, svm__kernel=poly; fbeta: (test=0.843) precision: (test=0.590) recall: (test=0.944) total time=   0.8s\n",
      "[CV 3/5] END svm__C=1, svm__degree=7, svm__kernel=poly; fbeta: (test=0.842) precision: (test=0.587) recall: (test=0.945) total time=   0.8s\n",
      "[CV 4/5] END svm__C=1, svm__degree=7, svm__kernel=poly; fbeta: (test=0.807) precision: (test=0.589) recall: (test=0.889) total time=   0.8s\n",
      "[CV 5/5] END svm__C=1, svm__degree=7, svm__kernel=poly; fbeta: (test=0.770) precision: (test=0.584) recall: (test=0.837) total time=   0.7s\n",
      "[CV 1/5] END svm__C=1, svm__degree=7, svm__kernel=rbf; fbeta: (test=0.838) precision: (test=0.575) recall: (test=0.947) total time=   0.7s\n",
      "[CV 2/5] END svm__C=1, svm__degree=7, svm__kernel=rbf; fbeta: (test=0.871) precision: (test=0.661) recall: (test=0.945) total time=   0.8s\n",
      "[CV 3/5] END svm__C=1, svm__degree=7, svm__kernel=rbf; fbeta: (test=0.869) precision: (test=0.755) recall: (test=0.903) total time=   0.9s\n",
      "[CV 4/5] END svm__C=1, svm__degree=7, svm__kernel=rbf; fbeta: (test=0.747) precision: (test=0.772) recall: (test=0.741) total time=   0.8s\n",
      "[CV 5/5] END svm__C=1, svm__degree=7, svm__kernel=rbf; fbeta: (test=0.249) precision: (test=0.805) recall: (test=0.212) total time=   0.8s\n",
      "[CV 1/5] END svm__C=10, svm__degree=2, svm__kernel=poly; fbeta: (test=0.830) precision: (test=0.567) recall: (test=0.938) total time=   1.2s\n",
      "[CV 2/5] END svm__C=10, svm__degree=2, svm__kernel=poly; fbeta: (test=0.829) precision: (test=0.587) recall: (test=0.925) total time=   1.4s\n",
      "[CV 3/5] END svm__C=10, svm__degree=2, svm__kernel=poly; fbeta: (test=0.794) precision: (test=0.582) recall: (test=0.874) total time=   1.3s\n",
      "[CV 4/5] END svm__C=10, svm__degree=2, svm__kernel=poly; fbeta: (test=0.778) precision: (test=0.586) recall: (test=0.848) total time=   1.1s\n",
      "[CV 5/5] END svm__C=10, svm__degree=2, svm__kernel=poly; fbeta: (test=0.725) precision: (test=0.610) recall: (test=0.760) total time=   1.3s\n",
      "[CV 1/5] END svm__C=10, svm__degree=2, svm__kernel=rbf; fbeta: (test=0.834) precision: (test=0.573) recall: (test=0.942) total time=   0.9s\n",
      "[CV 2/5] END svm__C=10, svm__degree=2, svm__kernel=rbf; fbeta: (test=0.811) precision: (test=0.634) recall: (test=0.872) total time=   1.1s\n",
      "[CV 3/5] END svm__C=10, svm__degree=2, svm__kernel=rbf; fbeta: (test=0.826) precision: (test=0.748) recall: (test=0.848) total time=   1.1s\n",
      "[CV 4/5] END svm__C=10, svm__degree=2, svm__kernel=rbf; fbeta: (test=0.698) precision: (test=0.766) recall: (test=0.683) total time=   1.0s\n",
      "[CV 5/5] END svm__C=10, svm__degree=2, svm__kernel=rbf; fbeta: (test=0.267) precision: (test=0.779) recall: (test=0.229) total time=   1.0s\n",
      "[CV 1/5] END svm__C=10, svm__degree=3, svm__kernel=poly; fbeta: (test=0.829) precision: (test=0.567) recall: (test=0.937) total time=   1.1s\n",
      "[CV 2/5] END svm__C=10, svm__degree=3, svm__kernel=poly; fbeta: (test=0.824) precision: (test=0.624) recall: (test=0.896) total time=   1.4s\n",
      "[CV 3/5] END svm__C=10, svm__degree=3, svm__kernel=poly; fbeta: (test=0.831) precision: (test=0.655) recall: (test=0.891) total time=   1.3s\n",
      "[CV 4/5] END svm__C=10, svm__degree=3, svm__kernel=poly; fbeta: (test=0.763) precision: (test=0.678) recall: (test=0.788) total time=   1.2s\n",
      "[CV 5/5] END svm__C=10, svm__degree=3, svm__kernel=poly; fbeta: (test=0.386) precision: (test=0.667) recall: (test=0.349) total time=   1.4s\n",
      "[CV 1/5] END svm__C=10, svm__degree=3, svm__kernel=rbf; fbeta: (test=0.834) precision: (test=0.573) recall: (test=0.942) total time=   0.9s\n",
      "[CV 2/5] END svm__C=10, svm__degree=3, svm__kernel=rbf; fbeta: (test=0.811) precision: (test=0.634) recall: (test=0.872) total time=   1.1s\n",
      "[CV 3/5] END svm__C=10, svm__degree=3, svm__kernel=rbf; fbeta: (test=0.826) precision: (test=0.748) recall: (test=0.848) total time=   1.2s\n",
      "[CV 4/5] END svm__C=10, svm__degree=3, svm__kernel=rbf; fbeta: (test=0.698) precision: (test=0.766) recall: (test=0.683) total time=   1.1s\n",
      "[CV 5/5] END svm__C=10, svm__degree=3, svm__kernel=rbf; fbeta: (test=0.267) precision: (test=0.779) recall: (test=0.229) total time=   0.9s\n",
      "[CV 1/5] END svm__C=10, svm__degree=7, svm__kernel=poly; fbeta: (test=0.832) precision: (test=0.567) recall: (test=0.942) total time=   1.0s\n",
      "[CV 2/5] END svm__C=10, svm__degree=7, svm__kernel=poly; fbeta: (test=0.813) precision: (test=0.591) recall: (test=0.897) total time=   1.1s\n",
      "[CV 3/5] END svm__C=10, svm__degree=7, svm__kernel=poly; fbeta: (test=0.831) precision: (test=0.606) recall: (test=0.916) total time=   1.4s\n",
      "[CV 4/5] END svm__C=10, svm__degree=7, svm__kernel=poly; fbeta: (test=0.791) precision: (test=0.616) recall: (test=0.851) total time=   1.0s\n",
      "[CV 5/5] END svm__C=10, svm__degree=7, svm__kernel=poly; fbeta: (test=0.695) precision: (test=0.608) recall: (test=0.721) total time=   1.0s\n",
      "[CV 1/5] END svm__C=10, svm__degree=7, svm__kernel=rbf; fbeta: (test=0.834) precision: (test=0.573) recall: (test=0.942) total time=   0.9s\n",
      "[CV 2/5] END svm__C=10, svm__degree=7, svm__kernel=rbf; fbeta: (test=0.811) precision: (test=0.634) recall: (test=0.872) total time=   1.0s\n",
      "[CV 3/5] END svm__C=10, svm__degree=7, svm__kernel=rbf; fbeta: (test=0.826) precision: (test=0.748) recall: (test=0.848) total time=   1.1s\n",
      "[CV 4/5] END svm__C=10, svm__degree=7, svm__kernel=rbf; fbeta: (test=0.698) precision: (test=0.766) recall: (test=0.683) total time=   1.0s\n",
      "[CV 5/5] END svm__C=10, svm__degree=7, svm__kernel=rbf; fbeta: (test=0.267) precision: (test=0.779) recall: (test=0.229) total time=   1.0s\n"
     ]
    },
    {
     "data": {
      "text/html": [
       "<style>#sk-container-id-2 {color: black;background-color: white;}#sk-container-id-2 pre{padding: 0;}#sk-container-id-2 div.sk-toggleable {background-color: white;}#sk-container-id-2 label.sk-toggleable__label {cursor: pointer;display: block;width: 100%;margin-bottom: 0;padding: 0.3em;box-sizing: border-box;text-align: center;}#sk-container-id-2 label.sk-toggleable__label-arrow:before {content: \"▸\";float: left;margin-right: 0.25em;color: #696969;}#sk-container-id-2 label.sk-toggleable__label-arrow:hover:before {color: black;}#sk-container-id-2 div.sk-estimator:hover label.sk-toggleable__label-arrow:before {color: black;}#sk-container-id-2 div.sk-toggleable__content {max-height: 0;max-width: 0;overflow: hidden;text-align: left;background-color: #f0f8ff;}#sk-container-id-2 div.sk-toggleable__content pre {margin: 0.2em;color: black;border-radius: 0.25em;background-color: #f0f8ff;}#sk-container-id-2 input.sk-toggleable__control:checked~div.sk-toggleable__content {max-height: 200px;max-width: 100%;overflow: auto;}#sk-container-id-2 input.sk-toggleable__control:checked~label.sk-toggleable__label-arrow:before {content: \"▾\";}#sk-container-id-2 div.sk-estimator input.sk-toggleable__control:checked~label.sk-toggleable__label {background-color: #d4ebff;}#sk-container-id-2 div.sk-label input.sk-toggleable__control:checked~label.sk-toggleable__label {background-color: #d4ebff;}#sk-container-id-2 input.sk-hidden--visually {border: 0;clip: rect(1px 1px 1px 1px);clip: rect(1px, 1px, 1px, 1px);height: 1px;margin: -1px;overflow: hidden;padding: 0;position: absolute;width: 1px;}#sk-container-id-2 div.sk-estimator {font-family: monospace;background-color: #f0f8ff;border: 1px dotted black;border-radius: 0.25em;box-sizing: border-box;margin-bottom: 0.5em;}#sk-container-id-2 div.sk-estimator:hover {background-color: #d4ebff;}#sk-container-id-2 div.sk-parallel-item::after {content: \"\";width: 100%;border-bottom: 1px solid gray;flex-grow: 1;}#sk-container-id-2 div.sk-label:hover label.sk-toggleable__label {background-color: #d4ebff;}#sk-container-id-2 div.sk-serial::before {content: \"\";position: absolute;border-left: 1px solid gray;box-sizing: border-box;top: 0;bottom: 0;left: 50%;z-index: 0;}#sk-container-id-2 div.sk-serial {display: flex;flex-direction: column;align-items: center;background-color: white;padding-right: 0.2em;padding-left: 0.2em;position: relative;}#sk-container-id-2 div.sk-item {position: relative;z-index: 1;}#sk-container-id-2 div.sk-parallel {display: flex;align-items: stretch;justify-content: center;background-color: white;position: relative;}#sk-container-id-2 div.sk-item::before, #sk-container-id-2 div.sk-parallel-item::before {content: \"\";position: absolute;border-left: 1px solid gray;box-sizing: border-box;top: 0;bottom: 0;left: 50%;z-index: -1;}#sk-container-id-2 div.sk-parallel-item {display: flex;flex-direction: column;z-index: 1;position: relative;background-color: white;}#sk-container-id-2 div.sk-parallel-item:first-child::after {align-self: flex-end;width: 50%;}#sk-container-id-2 div.sk-parallel-item:last-child::after {align-self: flex-start;width: 50%;}#sk-container-id-2 div.sk-parallel-item:only-child::after {width: 0;}#sk-container-id-2 div.sk-dashed-wrapped {border: 1px dashed gray;margin: 0 0.4em 0.5em 0.4em;box-sizing: border-box;padding-bottom: 0.4em;background-color: white;}#sk-container-id-2 div.sk-label label {font-family: monospace;font-weight: bold;display: inline-block;line-height: 1.2em;}#sk-container-id-2 div.sk-label-container {text-align: center;}#sk-container-id-2 div.sk-container {/* jupyter's `normalize.less` sets `[hidden] { display: none; }` but bootstrap.min.css set `[hidden] { display: none !important; }` so we also need the `!important` here to be able to override the default hidden behavior on the sphinx rendered scikit-learn.org. See: https://github.com/scikit-learn/scikit-learn/issues/21755 */display: inline-block !important;position: relative;}#sk-container-id-2 div.sk-text-repr-fallback {display: none;}</style><div id=\"sk-container-id-2\" class=\"sk-top-container\"><div class=\"sk-text-repr-fallback\"><pre>GridSearchCV(cv=5,\n",
       "             estimator=Pipeline(steps=[(&#x27;scaler&#x27;, StandardScaler()),\n",
       "                                       (&#x27;svm&#x27;, SVC())]),\n",
       "             param_grid={&#x27;svm__C&#x27;: (1, 10), &#x27;svm__degree&#x27;: (2, 3, 7),\n",
       "                         &#x27;svm__kernel&#x27;: (&#x27;poly&#x27;, &#x27;rbf&#x27;)},\n",
       "             refit=&#x27;recall&#x27;,\n",
       "             scoring=&lt;function fbeta_score_gridsearchcv at 0x000001E8EC34F9D0&gt;,\n",
       "             verbose=3)</pre><b>In a Jupyter environment, please rerun this cell to show the HTML representation or trust the notebook. <br />On GitHub, the HTML representation is unable to render, please try loading this page with nbviewer.org.</b></div><div class=\"sk-container\" hidden><div class=\"sk-item sk-dashed-wrapped\"><div class=\"sk-label-container\"><div class=\"sk-label sk-toggleable\"><input class=\"sk-toggleable__control sk-hidden--visually\" id=\"sk-estimator-id-5\" type=\"checkbox\" ><label for=\"sk-estimator-id-5\" class=\"sk-toggleable__label sk-toggleable__label-arrow\">GridSearchCV</label><div class=\"sk-toggleable__content\"><pre>GridSearchCV(cv=5,\n",
       "             estimator=Pipeline(steps=[(&#x27;scaler&#x27;, StandardScaler()),\n",
       "                                       (&#x27;svm&#x27;, SVC())]),\n",
       "             param_grid={&#x27;svm__C&#x27;: (1, 10), &#x27;svm__degree&#x27;: (2, 3, 7),\n",
       "                         &#x27;svm__kernel&#x27;: (&#x27;poly&#x27;, &#x27;rbf&#x27;)},\n",
       "             refit=&#x27;recall&#x27;,\n",
       "             scoring=&lt;function fbeta_score_gridsearchcv at 0x000001E8EC34F9D0&gt;,\n",
       "             verbose=3)</pre></div></div></div><div class=\"sk-parallel\"><div class=\"sk-parallel-item\"><div class=\"sk-item\"><div class=\"sk-label-container\"><div class=\"sk-label sk-toggleable\"><input class=\"sk-toggleable__control sk-hidden--visually\" id=\"sk-estimator-id-6\" type=\"checkbox\" ><label for=\"sk-estimator-id-6\" class=\"sk-toggleable__label sk-toggleable__label-arrow\">estimator: Pipeline</label><div class=\"sk-toggleable__content\"><pre>Pipeline(steps=[(&#x27;scaler&#x27;, StandardScaler()), (&#x27;svm&#x27;, SVC())])</pre></div></div></div><div class=\"sk-serial\"><div class=\"sk-item\"><div class=\"sk-serial\"><div class=\"sk-item\"><div class=\"sk-estimator sk-toggleable\"><input class=\"sk-toggleable__control sk-hidden--visually\" id=\"sk-estimator-id-7\" type=\"checkbox\" ><label for=\"sk-estimator-id-7\" class=\"sk-toggleable__label sk-toggleable__label-arrow\">StandardScaler</label><div class=\"sk-toggleable__content\"><pre>StandardScaler()</pre></div></div></div><div class=\"sk-item\"><div class=\"sk-estimator sk-toggleable\"><input class=\"sk-toggleable__control sk-hidden--visually\" id=\"sk-estimator-id-8\" type=\"checkbox\" ><label for=\"sk-estimator-id-8\" class=\"sk-toggleable__label sk-toggleable__label-arrow\">SVC</label><div class=\"sk-toggleable__content\"><pre>SVC()</pre></div></div></div></div></div></div></div></div></div></div></div></div>"
      ],
      "text/plain": [
       "GridSearchCV(cv=5,\n",
       "             estimator=Pipeline(steps=[('scaler', StandardScaler()),\n",
       "                                       ('svm', SVC())]),\n",
       "             param_grid={'svm__C': (1, 10), 'svm__degree': (2, 3, 7),\n",
       "                         'svm__kernel': ('poly', 'rbf')},\n",
       "             refit='recall',\n",
       "             scoring=<function fbeta_score_gridsearchcv at 0x000001E8EC34F9D0>,\n",
       "             verbose=3)"
      ]
     },
     "execution_count": 19,
     "metadata": {},
     "output_type": "execute_result"
    }
   ],
   "source": [
    "grid_search.fit(X_train, y_train)"
   ]
  },
  {
   "cell_type": "code",
   "execution_count": 20,
   "id": "47f403e9",
   "metadata": {},
   "outputs": [
    {
     "name": "stdout",
     "output_type": "stream",
     "text": [
      "The best params is {'svm__C': 1, 'svm__degree': 2, 'svm__kernel': 'poly'}.\n",
      "The best estimator is Pipeline(steps=[('scaler', StandardScaler()),\n",
      "                ('svm', SVC(C=1, degree=2, kernel='poly'))]).\n",
      "The best score is 0.9349771689497718.\n",
      "The precision is 0.5944849959448499, the recall is 0.9421593830334191, and the f-score 0.8434982738780208\n"
     ]
    }
   ],
   "source": [
    "best_params = grid_search.best_params_\n",
    "print(f\"The best params is {best_params}.\")\n",
    "best_est = grid_search.best_estimator_\n",
    "print(f\"The best estimator is {best_est}.\")\n",
    "best_score = grid_search.best_score_\n",
    "print(f\"The best score is {best_score}.\")\n",
    "\n",
    "precision, recall, fbeta = fbeta_score(y_test, grid_search.predict(X_test))\n",
    "print(f\"The precision is {precision}, the recall is {recall}, and the f-score {fbeta}\")"
   ]
  },
  {
   "cell_type": "markdown",
   "id": "16966b90",
   "metadata": {},
   "source": [
    "# Note\n",
    "\n",
    "If you want you can remove the last line: <br>\n",
    "precision, recall, fbeta = fbeta_score(y_test, grid_search.predict(X_test))<br>\n",
    "print(f\"The precision is {precision}, the recall is {recall}, and the f-score {fbeta}\")<br>\n",
    "\n",
    "This is because I configured GridSearchCV to calculate the highest score with respect to the *accuracy* metric! Specifically the best_score_ attribute is defined as: Mean cross-validated score of the best_estimator.<br>\n",
    "Thus the score of the SVM as calculated by GridSearchCV uses the highest average accuracy of cross-validation on the test set. <br>\n",
    "<br>\n",
    "In this case the best estimator is the SVM with a polynomial kernel of degree 2, with no regularization (ie C = 1). <br>"
   ]
  },
  {
   "cell_type": "code",
   "execution_count": null,
   "id": "545ae98e",
   "metadata": {},
   "outputs": [],
   "source": []
  }
 ],
 "metadata": {
  "kernelspec": {
   "display_name": "Python 3 (ipykernel)",
   "language": "python",
   "name": "python3"
  },
  "language_info": {
   "codemirror_mode": {
    "name": "ipython",
    "version": 3
   },
   "file_extension": ".py",
   "mimetype": "text/x-python",
   "name": "python",
   "nbconvert_exporter": "python",
   "pygments_lexer": "ipython3",
   "version": "3.9.13"
  }
 },
 "nbformat": 4,
 "nbformat_minor": 5
}
