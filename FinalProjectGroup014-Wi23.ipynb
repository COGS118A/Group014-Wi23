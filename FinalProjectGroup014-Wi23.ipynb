{
 "cells": [
  {
   "cell_type": "markdown",
   "metadata": {},
   "source": [
    "# COGS 118A - Final Project"
   ]
  },
  {
   "cell_type": "markdown",
   "metadata": {},
   "source": [
    "# Prediction of NBA Injuries from Performance Stats\n",
    "\n",
    "## Group members\n",
    "\n",
    "- Bobby Baylon\n",
    "- Kyra Brandt\n",
    "- Jayson Gutierrez\n",
    "- Nathaniel Mackler\n",
    "- Stephen Rabin"
   ]
  },
  {
   "cell_type": "markdown",
   "metadata": {},
   "source": [
    "### Code Setup:\n",
    "Please run the cell below before running any of the code cells in the notebook."
   ]
  },
  {
   "cell_type": "code",
   "execution_count": 1,
   "metadata": {},
   "outputs": [],
   "source": [
    "##SET UP (ALL IMPORT STATEMENTS GO HERE)\n",
    "\n",
    "#general\n",
    "import pandas as pd\n",
    "import numpy as np\n",
    "from sklearn.model_selection import GroupShuffleSplit, GridSearchCV, RandomizedSearchCV\n",
    "from sklearn.pipeline import Pipeline\n",
    "\n",
    "#KNN\n",
    "from sklearn.preprocessing import StandardScaler\n",
    "from sklearn.neighbors import KNeighborsClassifier\n",
    "from sklearn.feature_selection import SelectKBest\n",
    "\n",
    "#SVM\n",
    "from sklearn.svm import SVC\n",
    "\n",
    "#RandomForest\n",
    "from sklearn.model_selection import train_test_split\n",
    "from sklearn.model_selection import ShuffleSplit\n",
    "from sklearn.ensemble import RandomForestClassifier\n",
    "from sklearn.metrics import accuracy_score, classification_report, confusion_matrix\n",
    "from sklearn.preprocessing import LabelEncoder\n",
    "\n",
    "#Metrics\n",
    "from sklearn.metrics import precision_recall_fscore_support, make_scorer\n",
    "from sklearn.metrics import confusion_matrix\n",
    "from sklearn.metrics import ConfusionMatrixDisplay\n",
    "from sklearn.metrics import fbeta_score"
   ]
  },
  {
   "cell_type": "markdown",
   "metadata": {},
   "source": [
    "# Abstract \n",
    " Load management is a significant topic issue in the NBA as it involves the decision-making process of whether a player should play on game day in order to avoid injuries and ensure long-term health and success for both the player and their team. The goal of our project is to create a system for categorizing NBA players' injuries based on performance data. We use a dataset of player's performance statistics and injuries built from web-scraping the NBA API and injury data from Kaggle, which contains XX observations and 80 different features. After doing a combination of hand-design and multicollinearity feature selection, we explore differences in performance between K-Nearest Neighbors, SVM and Random Forest models using recall, f-beta and confusion matrices as metrics. We ultimately find all three models to perform comparably, with SVM doing the best to maximize recall but random forest and KNN providing better balance between recall and precision."
   ]
  },
  {
   "cell_type": "markdown",
   "metadata": {},
   "source": [
    "# Background\n",
    "\n",
    "A hot topic within the current NBA world revolves around the idea of load management. The concept of load management dictates if a player should play on game day and, if they do, how many minutes. One hypothetical example is that an NBA organization might sit their star player out for a game halfway through the season because that player has been used at high rates in recent games. That organization might analyze their star's workload, ask the player how their body is responding, and assess that it's time to give their star a rest to prevent any risk of injuries, minor or major. \n",
    "Practicing load management seems like an obvious protocol for an organization in order to preserve both the player and the organization’s future health and success. A study conducted through the 2012-2015 seasons in 17 NBA teams demonstrated that significant factors in player injuries were high game loads and player fatigue <a name=\"lewis\"></a>[<sup>[1]</sup>](#lewisnote). This study reinforces that there’s an interaction between game load and injury risk, thus it's reasonable for fans, organizations, and players to assess minutes and games played to determine if a player should sit to prevent injury. Another study conducted using data from the 2017-2019 seasons found that other risk factors for injury were player age and position <a name=\"cohan\"></a>[<sup>[2]</sup>](#cohannote). This study indicates that seasoned players are more prone to injury and that player build’s are considerable factors in injuries due to the size expectations of certain positions. A relevant article highlighted a trend an increasing injury severity over 11 seasons, attributing the causes to things such as lengthening the season and an increase in athletic intensity<a name=\"kosik\"></a>[<sup>[3]</sup>](#kosiknote). These variables are valuable in selecting specific variables that should be used in a statistical analysis of injury likelihood from player performance.\n",
    "On the surface, it seems obvious to people outside of the NBA world that you would want to prevent major injuries for the players, that could even be career ending, and that forcing any individual to play regardless of their physical status would be unethical and harmful. However, traditional NBA fans and retired players argue that current players, especially star players, shouldn’t sit due to fatigue or minor injuries as it robs fans of their full experience at an NBA game. When the late great Kobe Bryant was asked why he disapproves of modern NBA players sitting out due to fatigue, he stated this reasoning perfectly, “Because you have a lot of people paying a lot of money to come see these athletes play, and they deserve to see that.\""
   ]
  },
  {
   "cell_type": "markdown",
   "metadata": {},
   "source": [
    "# Problem Statement\n",
    "\n",
    "The research problem is classifying NBA player injuries as non-injured or injured based on their performance statistics, such as usage rating, minutes played, and games played, and demographics, like age, height, and weight. The purpose of this project is to develop an accurate model that can aid NBA organizations in their decision-making regarding load management and player preservation, as high game loads and player fatigue have been identified as significant factors in player injuries. By identifying common injury risk factors among NBA players based on position and player build, the model can inform preventative measures and training programs, promoting player health and success. As discussed in the background section above, the significance of this research lies in its potential to help NBA organizations improve player health and success, while enhancing the fan experience at NBA games by providing a high level of play while preventing major injuries for the players. In other words, predicting injuries will help players and coaches sustain longer, healthier careers and deliver the performance their fans deserve. This project's impact can contribute to the overall goal of promoting player health and success while also enhancing the fan experience at NBA games.\n",
    "\n",
    "In approaching feature selection, we use our basketball knowledge to determine which features would be intuitively important as well as analysis of the features to eliminate ones with high collinearity, since many performance statistics are linear combinations of others. \n",
    "\n",
    "In approaching model selection, we consider **KNN**, **SVM** and **Random Forest**. KNN is a strong algorithm for multi-class classification, which is importance since we aim to classify injury statuses in a hierachy of non-injured, minor injury or major injury. However, the high dimensionality of our initial dataframe presents a challenge in implementing KNN for this classification task, which further motivates good feature selection. We are not concerned about the high test time of KNN since, in industry, this algorithm would only have to be used around 10^4 or 10^5 times per year. \n",
    "\n",
    "SVM is a good fit for our project because it is an easily interpretable model. Interpretability is an important factor at play because if our model predicts that a player should sit out or take time off, players, coaches and fans are going to want to know why. Our model being interpretable is also important because, if accurate and interpretable, the model could provide motivation for adjustment of training regimes, leading to greater longevity in player careers. SVM kernels also introduce nonlinear transformations which will be importance since, as shown later, our data is not easily linearly separable.\n",
    "\n",
    "Finally, we explore random forest since random forest has built in feature selection. Thus, random forest provides both another model to consider for our project but also another route for feature selection for us to compare with what we come up with in our feature selection. \n"
   ]
  },
  {
   "cell_type": "markdown",
   "metadata": {},
   "source": [
    "# Data\n",
    "\n",
    "We combine data from the Kaggle Injury Data 2010-2020 and the nba_api (both of which are described below) to create a final cleaned dataframe pairing individual player performance statistics with whether or not players were injured that particular season. If the player was injured, we also have a column for whether their injury was minor or severe. We will use this merged dataframe as the basis of our model.\n",
    "\n",
    "The dataframe was constructed from the datasets below, both of which are in the Repo (as is our final dataframe) if you wish to view them:\n",
    "\n",
    "**Injury Data 2010-2020 (Kaggle):**\n",
    "- Link: https://www.kaggle.com/datasets/ghopkins/nba-injuries-2010-2018?resource=download \n",
    "- Repo Link: https://github.com/COGS118A/Group014-Wi23/blob/main/injuries_2010-2020.csv\n",
    "- Dataset size: 27,106 X 5 = 27,106 observations and 5 variables\n",
    "- A single observation consists of the name of the injured player, the team they played for while injured, notes detailing the injury, injury leave, and/or return from injury, and the date for which the player either left on injury leave or returned to play. \n",
    "- Some critical variables are the Required, Relinquished, and Notes variables. Required and Relinquished (based on whether or not a name is present) indicate whether a player is going on injury leave or returning to the field of play. Both of these variables are represented as string values and are categorical. The Notes variable contains more specific information on the injury (i.e. did not play or day-to-day [which is questionable to play]) and/or indicates the beginning or end of injury leave for a player. The Notes variable is represented as a string. \n",
    "- **DATA CLEANING:** This dataset was cleaned using string parsing to determine if a particular injury was minor or severe. A minor injury was defined to be an injury that keeps a player out of the game for one game or less, while a severe injury was one that kept the player out for more than one game. We determined which type of injury was which using string parsing - for example, a string containing “dtd” (day-to-day) indicated a minor injury, while words like “ACL” indicated severe injuries. Due to the fact that one injury could be featured in the kaggle dataset anywhere from 1-10+ times, we whittled the dataset down to recording whether a player was uninjured, minorly injured, severely injured, or both in each season. *(To see this process more in depth, please see our DataCleaningEDA118a notebook, linked here: https://github.com/COGS118A/Group014-Wi23/blob/main/DataCleaningEDA118a.ipynb)*\n",
    "- **FINAL VERSION:** At the end of our cleaning, we had 3796 observations of 4 variables (see below): season_year, player name, and a boolean for minor and severe injury. This was left-joined with our performance stats from the NBI API dataset, and NaNs were replaced with falses, since not being in the injuries dataset means a player wasn’t injured. We did have to discard approximately 4% of the injury data due to names being stored in a different format; we expect that this will slightly bias our model to underpredict injuries, but the dataset was too large to realistically go through and fix this by hand given the time frame. *(As above, this process can be seen in depth in the DataCleaningEDA118a.ipynb notebook in our repo linked above.) "
   ]
  },
  {
   "cell_type": "markdown",
   "metadata": {},
   "source": [
    "![Clean_head](images/Clean_injury_head.png)"
   ]
  },
  {
   "cell_type": "markdown",
   "metadata": {},
   "source": [
    "**nba_api for web scraping (GitHub):**\n",
    "- Link: https://github.com/swar/nba_api\n",
    "- Repo Link: https://github.com/COGS118A/Group014-Wi23/blob/main/AdvStats09-23.csv\n",
    "- Dataset size: 6593 observations x 80 variables.\n",
    "- An observation consists of around 80 performance statistics for a given player (i.e. time played, points scored, number of rebounds, average free throws made, etc.) along with their name, player ID, some demographics (ex. age) and the season.\n",
    "- Critical variables are the player's name and season because these are important for matching our dataframes as well as the performance statistics and demographics since these are the features we will feed into our models. Of the many player statistics we have data for, we expect to focus on variables that highlight general player performance, like average time played, average points scored in a game, and average shots made which would all be represented as integer values. A core element of our project moving forward will be to do feature selection from these performance and demographic statistics. \n",
    "- **RETRIEVAL PROCESS:** We retrieved advanced statistics data for NBA players from the 2009-2010 season to the present season. We first queried the NBA website for a table that included the identification information of all players on record, which was then filtered to include only those who have played since the 2009-2010 season. This process of retrieval took advantage of the NBA_API's 'player.py' module which provides access to a static database of all players that the NBA has recorded statistics for. Then, for each season, advanced stats data is retrieved and filtered to only include players who played in that season using the NBA_API's leaguedashplayerstats endpoint that accesses the advanced statistics for NBA players under some specified criteria. The resulting dataframes of each season's advanced stats for each player are concatenated into a single dataframe containing advanced stats data for all NBA players who have played since the 2009-2010 season. The resulting dataframe can be used for further analysis of NBA player performance.\n",
    "\n",
    "![NBA_head](images/NBA_stat_head.png)\n",
    "\n",
    "**Final Dataframe**\n",
    "- Link: https://github.com/COGS118A/Group014-Wi23/blob/main/nba_api_merged_injuries\n",
    "- Dataset size: 6593 observations x 81 variables\n",
    "- A single observation consists of around 80 performance statistics connected for a single player for a single season and whether or not they sustained a severe injury or a minor injury. \n",
    "- A large portion of our project is the feature selection we did to determine what critical variables are. We used the variables for whether or not they were injured to as the ground truth labels for our model. \n",
    "- The data cleaning process used to create this dataframe is described above and more in depth in the DataCleaningEDA118a notebook (https://github.com/COGS118A/Group014-Wi23/blob/main/DataCleaningEDA118a.ipynb).\n",
    "\n",
    "![Merged_head](images/merged_head.png)"
   ]
  },
  {
   "cell_type": "markdown",
   "metadata": {},
   "source": [
    "# Proposed Solution\n",
    "\n",
    "**Feature Selection:** Of our 81 features in our final dataset, we need to perform feature selection to determine which of them are the most useful and which can be excluded. We make use of our intuition as a first step, eliminating obvious things like player_id, player_name, nickname and selecting one from redundant sets like team_id and team_abbreviation. Then we analyze the relationships between features since some performance statistics are linear combinations of others. Having eliminated those features, we can procede to model construction and selection. Additionally, the random forest model provides us with a sanity check of feature selection because this model has built in feature selection. \n",
    "\n",
    "**Model Selection:** As mentioned previously, K-nearest neighbors is an obvious solution for this problem. Realistically, one would need to predict the injury class of NBA players no more frequently than tens of thousands of times per year. Therefore, the high complexity of testing with KNN is not a huge issue. The curse of dimensionality is also not a significant problem, as we have thousands of data points but only tens of features. However, a large vulnerability would be the risk of useless features affecting our KNN classifier. This is why it is so important we do good feature selection and scale our data appropriately. SVM also presents another proposed solution. We experiment with an RBF kernel and look into others appropraite for a dataset with more observations than features as a potential hyperparameter. We also saw potential in exploring grid search CV as a means of doing further feature selection by using different values of C (the \"hardness of the margin\") and different sets of features (from the ones selected on intution and research as described above). Finally, random forests is a useful solution because of its interpretability and automated feature selection. This automated feature selection removes biases that our intuition may introduce and may reveal patterns we had not anticipated. \n",
    "\n",
    "Previous studies' models, such as that conducted by Lewis or Cohan & Schuster, have used only player age and minutes played, since intuitively, these two factors are by far the most important in predicting whether a player will be injured. For this reason, our benchmark model is the  regression using only age and minutes played for input, so if a complex model fails to do significantly better than this model, we can safely dismiss it as not useful. Additionally, in our feature selection, we will use those two features (age, minutes played) as our baseline for determining our additional performanace features are useful."
   ]
  },
  {
   "cell_type": "markdown",
   "metadata": {},
   "source": [
    "# Evaluation Metrics\n",
    "\n",
    "While there are certainly consequences for a false positive in this case (like potentially hurting a player's mindset or causing them to reduce their performance), the consequences of a false negative (an injury occuring that could have been prevented or whose probability could be reduced through better form/training moderation) are far worse. The obvious error metric for this case would be recall (TP/(TP+FN)), but this metric would give zero weight to false positives. The harm of false positives is not zero, just lower than that of false negatives. Therefore, we find the best metric would be an Fbeta metric. The value of beta is subjective. We  play around with a few values to determine the beta that “feels” right but use one to weight recall higher.\n",
    "\n",
    "We also utilize confusion matrices to visualize the difference metrics."
   ]
  },
  {
   "cell_type": "markdown",
   "metadata": {},
   "source": [
    "# Results [NOT YET FINISHED]\n",
    "\n",
    "### 1: Feature Selection\n",
    "\n",
    "The full code for this section can be found here: https://github.com/COGS118A/Group014-Wi23/blob/main/COGS_118A_Final_Basic_Feature_Selection_Copy1.ipynb \n",
    "\n",
    "You will likely have different subsections as you go through your report. For instance you might start with an analysis of the dataset/problem and from there you might be able to draw out the kinds of algorithms that are / aren't appropriate to tackle the solution.  Or something else completely if this isn't the way your project works.\n",
    "\n",
    "\n"
   ]
  },
  {
   "cell_type": "markdown",
   "metadata": {},
   "source": [
    "### 2: Preliminary KNN Model\n",
    "\n",
    "The full code for this section can be found here: https://github.com/COGS118A/Group014-Wi23/blob/main/PreliminaryResults118a.ipynb\n",
    "\n",
    "We built two separate KNN models for our project. The first comprised our preliminary results section in the project checkpoints and due to time constraints was a binary classifier. This first model was implemented in a pipeline utilizing the default scaling settings. We fit this pipeline on the raining dataset and then used it to predict results for the testing dataset. Since everything was set to default and this was the most basic model we could build (especially given the time constraints), this preliminary KNN model serves as our \"default\" algorithm for characterizing performance."
   ]
  },
  {
   "cell_type": "code",
   "execution_count": 2,
   "metadata": {},
   "outputs": [
    {
     "name": "stdout",
     "output_type": "stream",
     "text": [
      "The precision is 0.6995412844036697, the recall is 0.7840616966580977, and the fbeta with beta=2 is 0.7655622489959839\n"
     ]
    },
    {
     "data": {
      "text/plain": [
       "<sklearn.metrics._plot.confusion_matrix.ConfusionMatrixDisplay at 0x20806fc5190>"
      ]
     },
     "execution_count": 2,
     "metadata": {},
     "output_type": "execute_result"
    },
    {
     "data": {
      "image/png": "[encoded data removed]",
      "text/plain": [
       "<Figure size 432x288 with 2 Axes>"
      ]
     },
     "metadata": {
      "needs_background": "light"
     },
     "output_type": "display_data"
    }
   ],
   "source": [
    "#PRELIMINARY MODEL:\n",
    "\n",
    "#read in data\n",
    "url = \"https://raw.githubusercontent.com/COGS118A/Group014-Wi23/main/nba_api_merged_injuries\"\n",
    "data = pd.read_csv(url)\n",
    "\n",
    "data.loc[:,[\"SEVERE_INJURY\", \"MINOR_INJURY\"]] = data[[\"MINOR_INJURY\", \"SEVERE_INJURY\"]].fillna(False) #replaces NAs with falses, because \n",
    "#NAs mean there was nothing in the injury set when we did the join\n",
    "\n",
    "features = data.columns[5:-3]\n",
    "X = data[features].copy()\n",
    "injuries = data.columns[-2:]\n",
    "y = data[injuries].copy()\n",
    "X = X.values\n",
    "# make this a two-class classifier with injured or not, treating minor and major as the same. This is just for preliminary results,\n",
    "# we will explore multi-class solutions later\n",
    "y['INJURY'] = (y['SEVERE_INJURY'] | y['MINOR_INJURY'])\n",
    "y = y[['INJURY']]\n",
    "y = np.ravel(y.values)\n",
    "\n",
    "#gotta do GroupShuffleSplit so we don't end up with people testing against themselves\n",
    "gss = GroupShuffleSplit(n_splits=1, test_size=0.2, random_state=42)\n",
    "train_idx, test_idx = next(gss.split(X=X, y=y, groups=data['PLAYER_NAME']))\n",
    "X_train, y_train = X[train_idx], y[train_idx]\n",
    "X_test, y_test = X[test_idx], y[test_idx]\n",
    "\n",
    "knn_pipeline = Pipeline([\n",
    "    ('scaler', StandardScaler()),   # Step 1: Preprocessing with StandardScaler\n",
    "    ('knn', KNeighborsClassifier()) # Step 2: KNN classification\n",
    "])\n",
    "\n",
    "knn_pipeline.fit(X_train, y_train)\n",
    "y_pred = knn_pipeline.predict(X_test)\n",
    "\n",
    "def fbeta_score_man(y_true, y_pred, beta):\n",
    "    precision, recall, fbeta, _ = precision_recall_fscore_support(y_true, y_pred, beta=beta, average=\"binary\")\n",
    "    return precision, recall, fbeta\n",
    "\n",
    "precision, recall, fbeta = fbeta_score_man(y_test, y_pred, 2)\n",
    "print(f\"The precision is {precision}, the recall is {recall}, and the fbeta with beta=2 is {fbeta}\")\n",
    "\n",
    "cm = confusion_matrix(y_test, y_pred)\n",
    "disp = ConfusionMatrixDisplay(cm)\n",
    "disp.plot()"
   ]
  },
  {
   "cell_type": "markdown",
   "metadata": {},
   "source": [
    "We demonstrated the suitability of this intial model through precision, recall and F-beta metrics of the KNN algorithm for the binary classification. This preliminary exploration yielded a precision value of 0.69, suggesting this model identifies a greater number of true positives with some false positives. We got a recall value of 0.78 which implies that our initial model still results in 0.22 misclassifications (false negatives). While this score is larger than the precision found, we believe it is possible to perform even better. Lastly, our F-beta value was 0.76 with beta = 2 where recall is weighted twice as much as precision. F-beta scores are a measure of the model’s accuracy based on both the precision and recall. Getting a value of 0.76 means we are classifying more samples than not. Though these scores are not terrible, we have confidence in our abilities to improve our current model, or identify another one capable of yielding greater confidence in our predictions. \n"
   ]
  },
  {
   "cell_type": "markdown",
   "metadata": {},
   "source": [
    "### 3: KNN Model with Selected Features\n",
    "\n",
    "The full code for this section can be found here: https://github.com/COGS118A/Group014-Wi23/blob/main/KNN_Model_118A.ipynb\n",
    "\n",
    "Having thus established a baseline and completed our feature selection, we set to work constructing a second KNN model, this time using the 20 features we had selected. We used the same pipeline as we had for our baseline model and again used GroupShuffleSplit to avoid the same individual presenting in the training and testing set. We then performed grid search cross validation to determine the best value of k, checking every odd k from 1-72. We then extracted the k with the best f-beta score.\n",
    "\n",
    "As above, we then calculated the precision, recall and f-beta score for this model, which are printed below. \n"
   ]
  },
  {
   "cell_type": "code",
   "execution_count": 3,
   "metadata": {},
   "outputs": [
    {
     "name": "stdout",
     "output_type": "stream",
     "text": [
      "The best value of k is 71.\n",
      "The precision is 0.6840958605664488, the recall is 0.8071979434447301, and the fbeta with beta=2 is 0.7791563275434242\n"
     ]
    },
    {
     "data": {
      "text/plain": [
       "<sklearn.metrics._plot.confusion_matrix.ConfusionMatrixDisplay at 0x20806fc5070>"
      ]
     },
     "execution_count": 3,
     "metadata": {},
     "output_type": "execute_result"
    },
    {
     "data": {
      "image/png": "[encoded data removed]",
      "text/plain": [
       "<Figure size 432x288 with 2 Axes>"
      ]
     },
     "metadata": {
      "needs_background": "light"
     },
     "output_type": "display_data"
    }
   ],
   "source": [
    "cols_list = ['AGE', 'GP', 'W_PCT', 'MIN', 'E_OFF_RATING', 'E_DEF_RATING', 'AST_PCT',\n",
    "       'AST_TO', 'AST_RATIO', 'OREB_PCT', 'DREB_PCT', 'REB_PCT', 'E_TOV_PCT',\n",
    "       'USG_PCT', 'E_USG_PCT', 'PACE_PER40', 'PIE', 'POSS', 'FGA_PG',\n",
    "       'FG_PCT'] # importing the columns that we went through for manual feature selection\n",
    "\n",
    "X = data.loc[:,cols_list]\n",
    "y = data.iloc[:,-2:]\n",
    "y['INJURY'] = (y['SEVERE_INJURY'] | y['MINOR_INJURY'])\n",
    "y = y[['INJURY']]\n",
    "y = np.ravel(y.values)\n",
    "X = X.values\n",
    "\n",
    "gss = GroupShuffleSplit(n_splits=1, test_size=0.2, random_state=42) # as per TA feedback, we implement Group Shuffle Split to ensure each\n",
    "# player is either all in the train set or all in the test set, even if we have multiple years of data for them. \n",
    "train_idx, test_idx = next(gss.split(X=X, y=y, groups=data['PLAYER_NAME']))\n",
    "X_train, y_train = X[train_idx], y[train_idx]\n",
    "X_test, y_test = X[test_idx], y[test_idx]\n",
    "    \n",
    "def fbeta_score_gridsearchcv(y_true, y_pred, beta):\n",
    "    precision, recall, fbeta, _ = precision_recall_fscore_support(y_true, y_pred, beta=beta, average=\"binary\") #slight modification of error function for the gridsearch\n",
    "    return fbeta\n",
    "\n",
    "param_grid = {'knn__n_neighbors': range(1, 73, 2)}\n",
    "\n",
    "grid_search = GridSearchCV(estimator=knn_pipeline, param_grid=param_grid, scoring=make_scorer(lambda y_true, y_pred: fbeta_score_gridsearchcv(y_true, y_pred, beta = 2)), cv=5)\n",
    "\n",
    "grid_search.fit(X_train, y_train)\n",
    "\n",
    "best_k = grid_search.best_params_['knn__n_neighbors']\n",
    "precision, recall, fbeta = fbeta_score_man(y_test, grid_search.predict(X_test), 2)\n",
    "print(f\"The best value of k is {best_k}.\")\n",
    "print(f\"The precision is {precision}, the recall is {recall}, and the fbeta with beta=2 is {fbeta}\")\n",
    "\n",
    "cm = confusion_matrix(y_test, grid_search.predict(X_test))\n",
    "disp1 = ConfusionMatrixDisplay(cm)\n",
    "disp1.plot()"
   ]
  },
  {
   "cell_type": "markdown",
   "metadata": {},
   "source": [
    "Interestingly, our model using the manually selected features resulted in only a slightly higher F-beta score than the original/preliminary model, which would seem to suggest that feature selection was not as big a deal as anticipated or that we chose the wrong features. Because with 80 features we have 2^80 possibly combinations of features, a grid search for feature selection would be too time and computationally intensive to feasibly complete. While we could try a random search, we decided it was a better choice to reevaluate once we had the feature selection from the Random Forest model to compare with. "
   ]
  },
  {
   "cell_type": "markdown",
   "metadata": {},
   "source": [
    "### 4: SVM Model\n",
    "\n",
    "The full code for this section can be found here: https://github.com/COGS118A/Group014-Wi23/blob/main/SVMModel.ipynb\n",
    "\n",
    "We then moved onto creating our SVM model. As mentioned above, SVM is valuable because it is interpretable and the different kernels, such as rbf and polynomial, allow us to fit to data that is not linearly separably. We discovered this by using PCA to project the data to a 2D space. \n",
    "\n",
    "![pca_image](images/pcaupdate.png)\n",
    "\n",
    "\n",
    "*Please note: This analysis reflects the 20 hand-selected features used in our final models, although the comparable accuracy between the two KNN models suggests that the 20 feature picture would not be very different.The code used to construct this image, along with those for all 80 features, can be found in Kyra_EDA_notebook.ipynb (link: https://github.com/COGS118A/Group014-Wi23/blob/main/Kyra_EDA_notebook.ipynb )* \n",
    "\n",
    "As can be seen, the data is very mixed together and not easily separable. This necessitates the use of a nonlinear kernel. For our SVM model, we explored both polynomial and rbf kernels. For the polynomial, we investigated degrees 2, 3 and 7. We also explored C values of 1 and 10. \n"
   ]
  },
  {
   "cell_type": "code",
   "execution_count": 4,
   "metadata": {},
   "outputs": [],
   "source": [
    "dataset = pd.read_csv('nba_api_merged_injuries')\n",
    "features = dataset[['AGE', 'GP', 'W_PCT', 'MIN', 'E_OFF_RATING', 'E_DEF_RATING', 'AST_PCT',\n",
    "       'AST_TO', 'AST_RATIO', 'OREB_PCT', 'DREB_PCT', 'REB_PCT', 'E_TOV_PCT',\n",
    "       'USG_PCT', 'E_USG_PCT', 'PACE_PER40', 'PIE', 'POSS', 'FGA_PG',\n",
    "       'FG_PCT']]\n",
    "features = features.values\n",
    "\n",
    "labels = pd.read_csv('https://raw.githubusercontent.com/COGS118A/Group014-Wi23/main/nba_api_merged_injuries').iloc[:,-2:]\n",
    "labels = labels.fillna(False)\n",
    "labels['INJ'] = (labels['SEVERE_INJURY'] | labels['MINOR_INJURY'])\n",
    "labels = labels[['INJ']]\n",
    "labels = np.ravel(labels.values)\n",
    "\n",
    "gss = GroupShuffleSplit(n_splits=1, test_size=0.2, random_state=42) # as per TA feedback, we implement Group Shuffle Split to ensure each\n",
    "# player is either all in the train set or all in the test set, even if we have multiple years of data for them. \n",
    "train_idx, test_idx = next(gss.split(X=features, y=labels, groups=dataset['PLAYER_NAME']))\n",
    "X_train, y_train = features[train_idx], labels[train_idx]\n",
    "X_test, y_test = features[test_idx], labels[test_idx]\n",
    "\n",
    "def fbeta_score_j(y_true, y_pred):\n",
    "    precision, recall, fbeta, _ = precision_recall_fscore_support(y_true, y_pred, beta=2, average=\"binary\") #error function for our F beta which weights recall more than precision\n",
    "    return precision, recall, fbeta\n",
    "    \n",
    "def fbeta_score_gridsearchcv(estimator, X, y):\n",
    "    y_pred = estimator.predict(X)\n",
    "    precision, recall, fbeta, _ = precision_recall_fscore_support(y, y_pred, beta=2, average=\"binary\") #slight modification of error function for the gridsearch\n",
    "\n",
    "    return {'precision': precision, 'recall': recall, 'fbeta' : fbeta}\n",
    "\n",
    "SVC_pipeline = Pipeline([\n",
    "    ('scaler', StandardScaler()),   # Step 1: Preprocessing with StandardScaler\n",
    "    ('svm', SVC()) # Step 2: SVC classification\n",
    "])\n",
    "\n",
    "param_grid = {'svm__kernel': ('poly', 'rbf'),\n",
    "              'svm__C' : (1,10),\n",
    "              'svm__degree' : (2,3,7)\n",
    "             }\n",
    "\n",
    "grid_search = GridSearchCV(estimator=SVC_pipeline, param_grid=param_grid, scoring=fbeta_score_gridsearchcv, cv=5, refit='recall')\n"
   ]
  },
  {
   "cell_type": "code",
   "execution_count": 5,
   "metadata": {},
   "outputs": [
    {
     "data": {
      "text/plain": [
       "GridSearchCV(cv=5,\n",
       "             estimator=Pipeline(steps=[('scaler', StandardScaler()),\n",
       "                                       ('svm', SVC())]),\n",
       "             param_grid={'svm__C': (1, 10), 'svm__degree': (2, 3, 7),\n",
       "                         'svm__kernel': ('poly', 'rbf')},\n",
       "             refit='recall',\n",
       "             scoring=<function fbeta_score_gridsearchcv at 0x00000208083A7670>)"
      ]
     },
     "execution_count": 5,
     "metadata": {},
     "output_type": "execute_result"
    }
   ],
   "source": [
    "grid_search.fit(X_train, y_train)"
   ]
  },
  {
   "cell_type": "markdown",
   "metadata": {},
   "source": [
    "We fit the SVM model on the data for the 20 hand-selected features, and used a grid search to find the best model with respect to the F-beta score using beta = 2. As can be seen below, our grid search revealed a model with low regulation (C = 1) and a second degree polynomial to be the best choice. The highest F-beta score achieved on all the models generated during the grid search was 94%, and the average f-beta score was .84%, making this the best performing model out of all of the models we generated for our project. We should also note the very high recall on this model. Although we are using f-beta as our primary metric, we are doing this because of our emphasis on recall for our project so this is also a good sign for us. The caveat for this is the low precision model, which is reflected most dramatically in the confusion matrix, especially when compared with confusion matrices for the other models. "
   ]
  },
  {
   "cell_type": "code",
   "execution_count": 6,
   "metadata": {},
   "outputs": [
    {
     "name": "stdout",
     "output_type": "stream",
     "text": [
      "The best params is {'svm__C': 1, 'svm__degree': 2, 'svm__kernel': 'poly'}.\n",
      "The best estimator is Pipeline(steps=[('scaler', StandardScaler()),\n",
      "                ('svm', SVC(C=1, degree=2, kernel='poly'))]).\n",
      "The best score is 0.9349771689497718.\n",
      "The precision is 0.5944849959448499, the recall is 0.9421593830334191, and the f-score 0.8434982738780208\n"
     ]
    },
    {
     "data": {
      "text/plain": [
       "<sklearn.metrics._plot.confusion_matrix.ConfusionMatrixDisplay at 0x2080a04d820>"
      ]
     },
     "execution_count": 6,
     "metadata": {},
     "output_type": "execute_result"
    },
    {
     "data": {
      "image/png": "[encoded data removed]",
      "text/plain": [
       "<Figure size 432x288 with 2 Axes>"
      ]
     },
     "metadata": {
      "needs_background": "light"
     },
     "output_type": "display_data"
    }
   ],
   "source": [
    "best_params = grid_search.best_params_\n",
    "print(f\"The best params is {best_params}.\")\n",
    "best_est = grid_search.best_estimator_\n",
    "print(f\"The best estimator is {best_est}.\")\n",
    "best_score = grid_search.best_score_\n",
    "print(f\"The best score is {best_score}.\")\n",
    "\n",
    "precision, recall, fbeta = fbeta_score_j(y_test, grid_search.predict(X_test))\n",
    "print(f\"The precision is {precision}, the recall is {recall}, and the f-score {fbeta}\")\n",
    "\n",
    "cm = confusion_matrix(y_test, grid_search.predict(X_test))\n",
    "disp2 = ConfusionMatrixDisplay(cm)\n",
    "disp2.plot()"
   ]
  },
  {
   "cell_type": "markdown",
   "metadata": {},
   "source": [
    "### 5: Random Forest \n",
    "\n",
    "The full code for this section can be found here: https://github.com/COGS118A/Group014-Wi23/blob/main/RandomForestModel.ipynb\n",
    "\n",
    "Having built our KNN and SVM models, we move to our final model: Random Forest. We used the same 20 hand selected features, split into training and test data using GroupShuffleSplit and trained the model."
   ]
  },
  {
   "cell_type": "code",
   "execution_count": 7,
   "metadata": {},
   "outputs": [
    {
     "data": {
      "text/plain": [
       "RandomForestClassifier(random_state=142)"
      ]
     },
     "execution_count": 7,
     "metadata": {},
     "output_type": "execute_result"
    }
   ],
   "source": [
    "# import the merged data set\n",
    "url = \"https://raw.githubusercontent.com/COGS118A/Group014-Wi23/main/nba_api_merged_injuries\"\n",
    "data1 = pd.read_csv(url)\n",
    "\n",
    "# Create a new column \"INJURY\" based on the \"MINOR\" and \"SEVERE\" columns\n",
    "data1['INJURY'] = (data1['MINOR_INJURY'] == True) | (data1['SEVERE_INJURY'] == True)\n",
    "\n",
    "\n",
    "# Select the features and target columns\n",
    "X = data1.loc[:,['AGE', 'GP', 'W_PCT', 'MIN', 'E_OFF_RATING', 'E_DEF_RATING', 'AST_PCT',\n",
    "       'AST_TO', 'AST_RATIO', 'OREB_PCT', 'DREB_PCT', 'REB_PCT', 'E_TOV_PCT',\n",
    "       'USG_PCT', 'E_USG_PCT', 'PACE_PER40', 'PIE', 'POSS', 'FGA_PG',\n",
    "       'FG_PCT']]\n",
    "y = data1['INJURY']\n",
    "\n",
    "# Perform Train Test Split\n",
    "#X_train, X_test, y_train, y_test = train_test_split(X, y, test_size=0.2, random_state=42)\n",
    "\n",
    "# Perform Shuffle Split \n",
    "# shuffle_split = ShuffleSplit(n_splits = 1, test_size = 0.2, random_state = 142)\n",
    "# for train_index, test_index in shuffle_split.split(X):\n",
    "#     X_train, X_test = X.iloc[train_index], X.iloc[test_index]\n",
    "#     y_train, y_test = y.iloc[train_index], y.iloc[test_index]\n",
    "\n",
    "gss = GroupShuffleSplit(n_splits=1, test_size=0.2, random_state=42) # as per TA feedback, we implement Group Shuffle Split to ensure each\n",
    "# player is either all in the train set or all in the test set, even if we have multiple years of data for them. \n",
    "train_idx, test_idx = next(gss.split(X=X, y=y, groups=data1['PLAYER_NAME']))\n",
    "X_train, y_train = X.iloc[train_idx], y.iloc[train_idx]\n",
    "X_test, y_test = X.iloc[test_idx], y.iloc[test_idx]\n",
    "    \n",
    "\n",
    "# Create a Random Forest classifier\n",
    "clf = RandomForestClassifier(n_estimators=100, random_state=142)\n",
    "\n",
    "# Train the model\n",
    "clf.fit(X_train, y_train)"
   ]
  },
  {
   "cell_type": "markdown",
   "metadata": {},
   "source": [
    "Having built and trained the model, we calculated its performance on our given metrics. It had a precision around 75%, recall around 75% and an f1-score around 75%, yielding an accuracy score of 71%. It's F-beta score (calculated with beta = 2) is 75%, making it comparable to the KNN models' performance."
   ]
  },
  {
   "cell_type": "code",
   "execution_count": 8,
   "metadata": {},
   "outputs": [
    {
     "name": "stdout",
     "output_type": "stream",
     "text": [
      "Classification Report:\n",
      "              precision    recall  f1-score   support\n",
      "\n",
      "       False       0.66      0.65      0.66       570\n",
      "        True       0.75      0.75      0.75       778\n",
      "\n",
      "    accuracy                           0.71      1348\n",
      "   macro avg       0.71      0.70      0.70      1348\n",
      "weighted avg       0.71      0.71      0.71      1348\n",
      "\n",
      "Accuracy Score:\n",
      "0.712166172106825\n",
      "F-beta Score binary:\n",
      "0.7516005121638925\n",
      "Confusion Matrix:\n"
     ]
    },
    {
     "data": {
      "text/plain": [
       "<sklearn.metrics._plot.confusion_matrix.ConfusionMatrixDisplay at 0x2080863ee50>"
      ]
     },
     "execution_count": 8,
     "metadata": {},
     "output_type": "execute_result"
    },
    {
     "data": {
      "image/png": "[encoded data removed]",
      "text/plain": [
       "<Figure size 432x288 with 2 Axes>"
      ]
     },
     "metadata": {
      "needs_background": "light"
     },
     "output_type": "display_data"
    }
   ],
   "source": [
    "# Make predictions\n",
    "y_pred = clf.predict(X_test)\n",
    "\n",
    "# Evaluate the classifier\n",
    "print(\"Classification Report:\")\n",
    "print(classification_report(y_test, y_pred))\n",
    "\n",
    "print(\"Accuracy Score:\")\n",
    "print(accuracy_score(y_test, y_pred))\n",
    "\n",
    "# Compute F-beta score\n",
    "beta = 1\n",
    "#fbeta_w = fbeta_score(y_test, y_pred, beta=beta, average='weighted')\n",
    "fbeta_b = fbeta_score(y_test, y_pred, beta=beta, average='binary')\n",
    "\n",
    "# print(\"F-beta Score weighted:\")\n",
    "# print(fbeta_w)\n",
    "\n",
    "print(\"F-beta Score binary:\")\n",
    "print(fbeta_b)\n",
    "\n",
    "print(\"Confusion Matrix:\")\n",
    "#print(confusion_matrix(y_test, y_pred))\n",
    "cm = confusion_matrix(y_test, y_pred)\n",
    "disp3 = ConfusionMatrixDisplay(cm)\n",
    "disp3.plot()"
   ]
  },
  {
   "cell_type": "markdown",
   "metadata": {},
   "source": [
    "One of the most important parts of the Random Forest for our purposes was the feature selection. When fed the 20 features we preselected for our three models, it gave the most importance to E_DEF_RATING followed by PACE_PER40, GP and E_OFF_RATING. This makes intuitive sense since defending can be very intense and physical, and players with good defensive ratings will be playing a lot of intense defense. PACE_PER40 reflects the amount of possessions in games, so a higher pace probably indicates more intense, fast play with less rest time for players. GP, or games played, makes sense to be a factor. If you play more, you are more likely to get injured. Therefore, this ranking of feature importance tracks with our intuition."
   ]
  },
  {
   "cell_type": "code",
   "execution_count": 10,
   "metadata": {},
   "outputs": [
    {
     "data": {
      "text/html": [
       "<div>\n",
       "<style scoped>\n",
       "    .dataframe tbody tr th:only-of-type {\n",
       "        vertical-align: middle;\n",
       "    }\n",
       "\n",
       "    .dataframe tbody tr th {\n",
       "        vertical-align: top;\n",
       "    }\n",
       "\n",
       "    .dataframe thead th {\n",
       "        text-align: right;\n",
       "    }\n",
       "</style>\n",
       "<table border=\"1\" class=\"dataframe\">\n",
       "  <thead>\n",
       "    <tr style=\"text-align: right;\">\n",
       "      <th></th>\n",
       "      <th>Feature</th>\n",
       "      <th>Importance</th>\n",
       "    </tr>\n",
       "  </thead>\n",
       "  <tbody>\n",
       "    <tr>\n",
       "      <th>5</th>\n",
       "      <td>E_DEF_RATING</td>\n",
       "      <td>0.123480</td>\n",
       "    </tr>\n",
       "    <tr>\n",
       "      <th>15</th>\n",
       "      <td>PACE_PER40</td>\n",
       "      <td>0.089011</td>\n",
       "    </tr>\n",
       "    <tr>\n",
       "      <th>1</th>\n",
       "      <td>GP</td>\n",
       "      <td>0.088384</td>\n",
       "    </tr>\n",
       "    <tr>\n",
       "      <th>4</th>\n",
       "      <td>E_OFF_RATING</td>\n",
       "      <td>0.078634</td>\n",
       "    </tr>\n",
       "    <tr>\n",
       "      <th>17</th>\n",
       "      <td>POSS</td>\n",
       "      <td>0.056129</td>\n",
       "    </tr>\n",
       "    <tr>\n",
       "      <th>2</th>\n",
       "      <td>W_PCT</td>\n",
       "      <td>0.047801</td>\n",
       "    </tr>\n",
       "    <tr>\n",
       "      <th>3</th>\n",
       "      <td>MIN</td>\n",
       "      <td>0.044051</td>\n",
       "    </tr>\n",
       "    <tr>\n",
       "      <th>12</th>\n",
       "      <td>E_TOV_PCT</td>\n",
       "      <td>0.041308</td>\n",
       "    </tr>\n",
       "    <tr>\n",
       "      <th>19</th>\n",
       "      <td>FG_PCT</td>\n",
       "      <td>0.039649</td>\n",
       "    </tr>\n",
       "    <tr>\n",
       "      <th>18</th>\n",
       "      <td>FGA_PG</td>\n",
       "      <td>0.039161</td>\n",
       "    </tr>\n",
       "    <tr>\n",
       "      <th>16</th>\n",
       "      <td>PIE</td>\n",
       "      <td>0.038177</td>\n",
       "    </tr>\n",
       "    <tr>\n",
       "      <th>7</th>\n",
       "      <td>AST_TO</td>\n",
       "      <td>0.037348</td>\n",
       "    </tr>\n",
       "    <tr>\n",
       "      <th>8</th>\n",
       "      <td>AST_RATIO</td>\n",
       "      <td>0.037298</td>\n",
       "    </tr>\n",
       "    <tr>\n",
       "      <th>10</th>\n",
       "      <td>DREB_PCT</td>\n",
       "      <td>0.037049</td>\n",
       "    </tr>\n",
       "    <tr>\n",
       "      <th>14</th>\n",
       "      <td>E_USG_PCT</td>\n",
       "      <td>0.035400</td>\n",
       "    </tr>\n",
       "    <tr>\n",
       "      <th>13</th>\n",
       "      <td>USG_PCT</td>\n",
       "      <td>0.034494</td>\n",
       "    </tr>\n",
       "    <tr>\n",
       "      <th>11</th>\n",
       "      <td>REB_PCT</td>\n",
       "      <td>0.034317</td>\n",
       "    </tr>\n",
       "    <tr>\n",
       "      <th>6</th>\n",
       "      <td>AST_PCT</td>\n",
       "      <td>0.034026</td>\n",
       "    </tr>\n",
       "    <tr>\n",
       "      <th>9</th>\n",
       "      <td>OREB_PCT</td>\n",
       "      <td>0.033682</td>\n",
       "    </tr>\n",
       "    <tr>\n",
       "      <th>0</th>\n",
       "      <td>AGE</td>\n",
       "      <td>0.030600</td>\n",
       "    </tr>\n",
       "  </tbody>\n",
       "</table>\n",
       "</div>"
      ],
      "text/plain": [
       "         Feature  Importance\n",
       "5   E_DEF_RATING    0.123480\n",
       "15    PACE_PER40    0.089011\n",
       "1             GP    0.088384\n",
       "4   E_OFF_RATING    0.078634\n",
       "17          POSS    0.056129\n",
       "2          W_PCT    0.047801\n",
       "3            MIN    0.044051\n",
       "12     E_TOV_PCT    0.041308\n",
       "19        FG_PCT    0.039649\n",
       "18        FGA_PG    0.039161\n",
       "16           PIE    0.038177\n",
       "7         AST_TO    0.037348\n",
       "8      AST_RATIO    0.037298\n",
       "10      DREB_PCT    0.037049\n",
       "14     E_USG_PCT    0.035400\n",
       "13       USG_PCT    0.034494\n",
       "11       REB_PCT    0.034317\n",
       "6        AST_PCT    0.034026\n",
       "9       OREB_PCT    0.033682\n",
       "0            AGE    0.030600"
      ]
     },
     "execution_count": 10,
     "metadata": {},
     "output_type": "execute_result"
    }
   ],
   "source": [
    "feat_imp = clf.feature_importances_\n",
    "\n",
    "feature_importance = pd.DataFrame(cols_list)\n",
    "feature_importance['CLF_importance'] = feat_imp\n",
    "feature_importance.columns = ['Feature', 'Importance']\n",
    "feature_importance = feature_importance.sort_values('Importance', ascending = False)\n",
    "feature_importance"
   ]
  },
  {
   "cell_type": "markdown",
   "metadata": {},
   "source": [
    "Interestingly, when we constructed a random forest model not using the pre-selected 20 features (as can be seen in the RandomForestModel notebook), the model had a higher accuracy and a different set of more important features. \n",
    "![fullyfree](images/fullyfreerf.png)"
   ]
  },
  {
   "cell_type": "markdown",
   "metadata": {},
   "source": [
    "As shown below, a model with no human feature selection (except for removing names, redundant columns and labels) had higher accuracy and better performance on our metrics. The F-beta score on this model was 87% which appears to be a marked increase from the 75% achieved on the model with preselected features. It is important to be wary of these results, however, since they may reflect an interaction among features rather than a substantial improvement. The first 20 highest ranked features  for this model are shown below:\n",
    "![features2electricboogaloo](images/All_feat_imp.png)\\\n",
    "The most important feature is not E_DEF_RATING but the season. Interestingly, this feature is excluded in our preselected features. It may make sense that the year has an effect on injury prediction, since factors like training regime trends, player mentality and game schedule may change from year to year, but it also good to be wary of taking this too much to heart since the year also introduces time confounds the model may be overfitting to that would keep the model from effectively generalizing when given more data. "
   ]
  },
  {
   "cell_type": "markdown",
   "metadata": {},
   "source": [
    "# Discussion [NOT YET FINISHED]\n",
    "\n",
    "### Interpreting the result [NOT DONE]\n",
    "\n",
    "OK, you've given us quite a bit of tech informaiton above, now its time to tell us what to pay attention to in all that.  Think clearly about your results, decide on one main point and 2-4 secondary points you want us to understand. Highlight HOW your results support those points.  You probably want 2-5 sentences per point.\n",
    "\n",
    "**Feature Selection:**\n",
    "\n",
    "\n",
    "**Model Selection:**\n",
    "![comparison](images/all_together_now.png)\n",
    "   With respect to the KNN model, we found that using our hand selected features did not drastically improve performance from a model with all 80 features. Our final KNN model used k =71 and had an F-beta score of 78% which is only marginally better than the model without feature selection (76%). Because reducing the number of features did not drastically reduce or improve performance, we can anticipate that our feature selection did a reasonable job of grabbing representative, important features. The lack of considerable increase is disheartening though because we expected an increase due to the decrease in dimensionality. The lack of these increase in performance suggests that even though we did reasonably well in feature selection, there may be better features out there that would be worth exploring given more time. \n",
    "\n",
    "   With respect to the SVM model, we settled on the polynomial kernel and a low C value, which produced the highest F-beta score of our three models using the 20 hand-selected features. This suggests that the nonlinear transformation that the polynomial kernel does was very important for understanding our data. It is important to recognize that this model may not be the best all around because it is maximizing performance on an F-beta metric that is focusing heavily on recall. This led to this model having a significantly higher recall than the other models we built, but at the expense of a much lower precision.\n",
    "\n",
    "  Finally, with respect to the Random Forest model, the model built with the preselected features had an F-beta score of 75% which is comparable to the performance of the KNN models. The most important feature of the preselected features was the player's defense rating, followed by the pace of the games they played, the number of games played and their offensive rating. This discovery complimented our intuition. In contrast, a Random Forest model developed on all the features in our final dataframe emphasized the season, the games played rank, games played and defensive rating. This model performed better than the one constructed on the preselected features but it is important to recognize the relationship between the features it is emphasizing. For example, games played and games played rank are obviously related and so it would be better to use one or the other to avoid problems of collinearity. Therefore, despite the gap in performance, it is still better to try and use the preselected features, though the second Random Forest provides good information about what additional features might be added into those preselected features to improve performance in the future.\n",
    "\n",
    "   Therefore, based solely on the F-beta scores of all of our models, the SVM model is the best. SVM is well suited to the problem. The nonlinearity introduced by the kernel allows for it to better fit to our data which is not linearly separable and SVM has the advantage of being interpretable which could become a very important factor when trying to pitch an injury-prediction model. However, the low precision on the SVM model could become a problem, since it would be wrong to consistently recommend star players to sit out unnecessarily. All of our models performed similarly on the data. Therefore, in the long run, it may be better to use the Random Forest model which balances precision and recall very closely or even the KNN model which keeps the values close but has a slight balance towards higher recall. \n",
    "   It should also be noted that the Random Forest constructed on all 80 features performed comparable on the F-beta metric with the SVM but balanced its precision and recall much better. We are hesitant to embrace this model because of the relationships between the features, which could be leading it to overfit to certain features. If we had more time, we would want to delve deeper into the feature selection this Random Forest model did and use it to improve our hand-selected features, which hopefully would allow us to improve our other models while still avoiding the problem of overfitting and collinearity. \n",
    "\n",
    "### Limitations\n",
    "\n",
    "While we were happy with the results we were able to achieve, cosntructing a model that could actually be used for the NBA would require a different form of data than the one we used. We predicted player injury from their stats for the whole year, but their whole year stats could have been directly affected by an injury early in the season. This introduces collinearity and confounds into the data that prevent it from being the best model for the problem. If we were to continue with this project, we would want to get better and more granular data. It would perhaps be better to look from game to game or to do some form of transformation to account for the way that injuries are affecting the data, but due to time constaints, we were not able to explore these possibilities for this project. \n",
    "\n",
    "Had we had more time, we think it would have been beneficial to explore the multiclass algorithm as we originally intended. Separating out minor and severe injuries may have made the classes more distinct and thus made it easier for the models to learn and perform better. \n",
    "\n"
   ]
  },
  {
   "cell_type": "markdown",
   "metadata": {},
   "source": [
    "### Ethics & Privacy\n",
    "\n",
    "We will be using data that is directly taken from the NBA.com website. We are aware that it is crucial to make sure the data is gathered methodically and objectively. We will be working with player statistics that are made available to the public via the website, and as the data will not contain sensitive information and is made available to the public, informed permission is not necessary. We will use prosportstransactions.com to access player injury data for the 2010–2011 season through the 2019–2020 season. We won't falsify the data to forward an objective, such as financial gain, so in order to account for honest portrayal and unintentional use of the data when doing our research.\n",
    "\n",
    "### Conclusion\n",
    "Using the injury data and player stats from the NBA, we found that KNN, SVM and Random Forest all performed comparably to one another when given the same 20 features. While SVM did the best job maximizing recall and F-beta score, Random Forest had the best balance between recall and precision, although KNN was close behind. When allowed to do automated feature selection, Random Forest became the best model, balancing recall and precision and having a close F-beta score to SVM. Because load management involves carefully balancing avoiding injury and letting players play as hard as they can, this makes the Random Forest or KNN models the better choice for the job. This is good because they are both readily interpretable, which is important for understanding how features become risk factors in injury so that training regimes can be modified to better support players. All three models suggest that there is more to predicting injury than just age and minutes played. Future work should focus on narrowing down the most important features for training these models, both to improve model performance and to adjust training to better support player longevity. \n"
   ]
  },
  {
   "cell_type": "markdown",
   "metadata": {},
   "source": [
    "# Footnotes\n",
    "<a name=\"lewisnote\"></a>1.[^](#lewis): Lewis, M. (2018). It’s a Hard-Knock Life: Game Load, Fatigue, and Injury Risk in the National Basketball Association. J Athl Train. https://meridian.allenpress.com/jat/article/53/5/503/112788/It-s-a-Hard-Knock-Life-Game-Load-Fatigue-and<br> \n",
    "<a name=\"cohannote\"></a>2.[^](#cohan): Cohan, A., Schuster, J. Fernandez, J. (2021). A deep learning approach to injury forecasting in NBA basketball. Journal of Sports Analytics. <br>\n",
    "<a name=\"kosiknote\"></a>3.[^](#kosik) Kosik, K., Lundquist, K., & McInnis, K. (2021). Temporal Trends and Severity in Injury and Illness Incidence in the National Basketball Association Over 11 Seasons. Journal of Athletic Training, 56(1), 15-23\n"
   ]
  },
  {
   "cell_type": "code",
   "execution_count": null,
   "metadata": {},
   "outputs": [],
   "source": []
  }
 ],
 "metadata": {
  "kernelspec": {
   "display_name": "Python 3",
   "language": "python",
   "name": "python3"
  },
  "language_info": {
   "codemirror_mode": {
    "name": "ipython",
    "version": 3
   },
   "file_extension": ".py",
   "mimetype": "text/x-python",
   "name": "python",
   "nbconvert_exporter": "python",
   "pygments_lexer": "ipython3",
   "version": "3.8.8"
  }
 },
 "nbformat": 4,
 "nbformat_minor": 4
}
